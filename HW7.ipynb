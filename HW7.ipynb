{
 "cells": [
  {
   "cell_type": "code",
   "execution_count": 1,
   "metadata": {},
   "outputs": [],
   "source": [
    "from scipy import stats"
   ]
  },
  {
   "cell_type": "code",
   "execution_count": 35,
   "metadata": {},
   "outputs": [
    {
     "name": "stdout",
     "output_type": "stream",
     "text": [
      "0.054799291699557974\n",
      "0.8469063084087848\n",
      "108.43546885987757\n",
      "55.327195595727915\n",
      "38.637439553233506\n"
     ]
    }
   ],
   "source": [
    "# Se x segue uma distribuição normal com u = 80 e σ**2 = 225, calcular:\n",
    "\n",
    "# a) P(x <= 56)\n",
    "# Resposta:\n",
    "print(stats.norm.cdf(56, loc=80, scale=15))\n",
    "\n",
    "# b) P(x >= 72 | x < 97)\n",
    "# Resposta:\n",
    "\n",
    "P_maior_ou_igual_que_72 = 1 - stats.norm.cdf(71, loc=80, scale=15)\n",
    "P_menor_que_97 = stats.norm.cdf(96, loc=80, scale=15)\n",
    "\n",
    "P_menor_que_97_condicional_maior_ou_igual_72 = P_maior_ou_igual_que_72 / P_menor_que_97\n",
    "print(P_menor_que_97_condicional_maior_ou_igual_72)\n",
    "\n",
    "# c) O número c tal que P(x < c) = 0.971\n",
    "# Resposta:\n",
    "print(stats.norm.ppf(0.971, loc=80, scale=15))\n",
    "\n",
    "# d) O número d tal que P(x > d) = 0.950\n",
    "# Resposta:\n",
    "print(stats.norm.isf(0.950, loc=80, scale=15))\n",
    "\n",
    "# e) O número e tal que P(80 - e < x < 80 + e) = 0.99\n",
    "# Resposta:\n",
    "print(stats.norm.ppf(0.995, loc=80, scale=15) - 80)\n",
    "\n"
   ]
  },
  {
   "cell_type": "code",
   "execution_count": null,
   "metadata": {},
   "outputs": [],
   "source": [
    "\n"
   ]
  }
 ],
 "metadata": {
  "kernelspec": {
   "display_name": "Python 3.10.2 64-bit",
   "language": "python",
   "name": "python3"
  },
  "language_info": {
   "codemirror_mode": {
    "name": "ipython",
    "version": 3
   },
   "file_extension": ".py",
   "mimetype": "text/x-python",
   "name": "python",
   "nbconvert_exporter": "python",
   "pygments_lexer": "ipython3",
   "version": "3.10.2"
  },
  "orig_nbformat": 4,
  "vscode": {
   "interpreter": {
    "hash": "9be826744cc5714b462ad0c8de88bfa6f016a48973c6317b9546595d1685cabb"
   }
  }
 },
 "nbformat": 4,
 "nbformat_minor": 2
}
