{
 "cells": [
  {
   "cell_type": "code",
   "execution_count": 2,
   "metadata": {},
   "outputs": [],
   "source": [
    "from scipy import stats"
   ]
  },
  {
   "cell_type": "code",
   "execution_count": 13,
   "metadata": {},
   "outputs": [
    {
     "name": "stdout",
     "output_type": "stream",
     "text": [
      "0.01284820954362645\n",
      "0.7024355382048141\n",
      "116.26073876436587\n",
      "71.00341483840717\n",
      "25.758293035489004\n",
      "25.758293035489004\n"
     ]
    }
   ],
   "source": [
    "# Se x segue uma distribuição normal com u = 91 e σ**2 = 169, calcular:\n",
    "\n",
    "# a) P(x <= 62)\n",
    "# Resposta:\n",
    "print(stats.norm.cdf(62, loc=91, scale=13))\n",
    "\n",
    "# b) P(x >= 83 | x < 108)\n",
    "# Resposta:\n",
    "\n",
    "maior_igual_83 = stats.norm.cdf(83, loc=91, scale=13)\n",
    "menor_108 = stats.norm.cdf(108, loc=91, scale=13)\n",
    "maior_83_menor_108 = menor_108 - maior_igual_83\n",
    "\n",
    "print(maior_83_menor_108/menor_108)\n",
    "\n",
    "\n",
    "# c) O número c tal que P(x < c) = 0.974\n",
    "# Resposta:\n",
    "print(stats.norm.ppf(0.974, loc=91, scale=13))\n",
    "\n",
    "# d) O número d tal que P(x > d) = 0.938\n",
    "# Resposta:\n",
    "print(stats.norm.isf(0.938, loc=91, scale=13))\n",
    "\n",
    "# e) O número e tal que P(82 - e < x < 82 + e) = 0.99\n",
    "\n",
    "x = stats.norm.ppf(0.995, 82, 10)\n",
    "print(x-82)\n",
    "\n",
    "y = stats.norm.ppf(0.005, 82, 10)\n",
    "print(82-y)"
   ]
  },
  {
   "cell_type": "code",
   "execution_count": null,
   "metadata": {},
   "outputs": [],
   "source": [
    "\n"
   ]
  }
 ],
 "metadata": {
  "kernelspec": {
   "display_name": "Python 3.10.2 64-bit",
   "language": "python",
   "name": "python3"
  },
  "language_info": {
   "codemirror_mode": {
    "name": "ipython",
    "version": 3
   },
   "file_extension": ".py",
   "mimetype": "text/x-python",
   "name": "python",
   "nbconvert_exporter": "python",
   "pygments_lexer": "ipython3",
   "version": "3.10.2"
  },
  "orig_nbformat": 4,
  "vscode": {
   "interpreter": {
    "hash": "9be826744cc5714b462ad0c8de88bfa6f016a48973c6317b9546595d1685cabb"
   }
  }
 },
 "nbformat": 4,
 "nbformat_minor": 2
}
