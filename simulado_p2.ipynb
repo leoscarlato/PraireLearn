{
 "cells": [
  {
   "cell_type": "markdown",
   "metadata": {},
   "source": [
    "# Simulado: Prova 2 / CDados 2s2022"
   ]
  },
  {
   "cell_type": "code",
   "execution_count": 3,
   "metadata": {},
   "outputs": [],
   "source": [
    "import pandas as pd\n",
    "import matplotlib.pyplot as plt\n",
    "import scipy.stats as stats\n",
    "import numpy as np"
   ]
  },
  {
   "cell_type": "markdown",
   "metadata": {},
   "source": [
    "# Rubrica\n",
    "Em cada questão, alguns desses elementos se aplicam:\n",
    "\n",
    "| Elemento | Insuficiente | Suficiente | Proficiente | Avançado |\n",
    "| --- | --- | --- | --- | --- |\n",
    "| 1 | Os elementos de programação estão ausentes ou errados | O código gera resultado correto, embora tenha problemas na clareza ou não use estruturas relevantes como laços e nomes de variáveis fáceis de identificar | O código está claro e correto | O código está claro, funcional e bem comentado |\n",
    "| 2 | As informações não são escolhidas corretamente | As informações corretas são escolhidas, mas são apresentadas junto a várias outras informações irrelevantes | As informações corretas são escolhidas, e as irrelevantes são deixadas de lado | As informações corretas são escolhidas e justificadas |\n",
    "| 3 | Não há relação entre afirmações e medidas estatísticas | As medidas estatísticas são marginalmente relacionadas às afirmações | As medidas estatísticas são claramente relacionadas às afirmações | As medidas estatísticas são relacionadas às afirmações, e as respostas apontam as limitações dessas relações |\n",
    "| 4 | Não há figuras ou textos, ou eles estão factualmente errados | As figuras ou textos são prolixos ou pouco claros, embora tragam informações que apontem na direção da resposta correta | As figuras e textos são objetivos, claros e corretos | As figuras e textos são auto-suficientes, isto é, são tão claros que podem ser entendidos sem conhecer o enunciado da questão |"
   ]
  },
  {
   "cell_type": "markdown",
   "metadata": {},
   "source": [
    "# Exercício 1\n",
    "\n",
    "Neste simulado, vamos trabalhar com dados de doenças cardíacas. Eles estão no seguinte dataframe:"
   ]
  },
  {
   "cell_type": "code",
   "execution_count": 16,
   "metadata": {},
   "outputs": [
    {
     "data": {
      "text/html": [
       "<div>\n",
       "<style scoped>\n",
       "    .dataframe tbody tr th:only-of-type {\n",
       "        vertical-align: middle;\n",
       "    }\n",
       "\n",
       "    .dataframe tbody tr th {\n",
       "        vertical-align: top;\n",
       "    }\n",
       "\n",
       "    .dataframe thead th {\n",
       "        text-align: right;\n",
       "    }\n",
       "</style>\n",
       "<table border=\"1\" class=\"dataframe\">\n",
       "  <thead>\n",
       "    <tr style=\"text-align: right;\">\n",
       "      <th></th>\n",
       "      <th>HeartDisease</th>\n",
       "      <th>BMI</th>\n",
       "      <th>Smoking</th>\n",
       "      <th>AlcoholDrinking</th>\n",
       "      <th>Stroke</th>\n",
       "      <th>PhysicalHealth</th>\n",
       "      <th>MentalHealth</th>\n",
       "      <th>DiffWalking</th>\n",
       "      <th>Sex</th>\n",
       "      <th>AgeCategory</th>\n",
       "      <th>Race</th>\n",
       "      <th>Diabetic</th>\n",
       "      <th>PhysicalActivity</th>\n",
       "      <th>GenHealth</th>\n",
       "      <th>SleepTime</th>\n",
       "      <th>Asthma</th>\n",
       "      <th>KidneyDisease</th>\n",
       "      <th>SkinCancer</th>\n",
       "    </tr>\n",
       "  </thead>\n",
       "  <tbody>\n",
       "    <tr>\n",
       "      <th>0</th>\n",
       "      <td>No</td>\n",
       "      <td>16.60</td>\n",
       "      <td>Yes</td>\n",
       "      <td>No</td>\n",
       "      <td>No</td>\n",
       "      <td>3.0</td>\n",
       "      <td>30.0</td>\n",
       "      <td>No</td>\n",
       "      <td>Female</td>\n",
       "      <td>55-59</td>\n",
       "      <td>White</td>\n",
       "      <td>Yes</td>\n",
       "      <td>Yes</td>\n",
       "      <td>Very good</td>\n",
       "      <td>5.0</td>\n",
       "      <td>Yes</td>\n",
       "      <td>No</td>\n",
       "      <td>Yes</td>\n",
       "    </tr>\n",
       "    <tr>\n",
       "      <th>1</th>\n",
       "      <td>No</td>\n",
       "      <td>20.34</td>\n",
       "      <td>No</td>\n",
       "      <td>No</td>\n",
       "      <td>Yes</td>\n",
       "      <td>0.0</td>\n",
       "      <td>0.0</td>\n",
       "      <td>No</td>\n",
       "      <td>Female</td>\n",
       "      <td>80 or older</td>\n",
       "      <td>White</td>\n",
       "      <td>No</td>\n",
       "      <td>Yes</td>\n",
       "      <td>Very good</td>\n",
       "      <td>7.0</td>\n",
       "      <td>No</td>\n",
       "      <td>No</td>\n",
       "      <td>No</td>\n",
       "    </tr>\n",
       "    <tr>\n",
       "      <th>2</th>\n",
       "      <td>No</td>\n",
       "      <td>26.58</td>\n",
       "      <td>Yes</td>\n",
       "      <td>No</td>\n",
       "      <td>No</td>\n",
       "      <td>20.0</td>\n",
       "      <td>30.0</td>\n",
       "      <td>No</td>\n",
       "      <td>Male</td>\n",
       "      <td>65-69</td>\n",
       "      <td>White</td>\n",
       "      <td>Yes</td>\n",
       "      <td>Yes</td>\n",
       "      <td>Fair</td>\n",
       "      <td>8.0</td>\n",
       "      <td>Yes</td>\n",
       "      <td>No</td>\n",
       "      <td>No</td>\n",
       "    </tr>\n",
       "    <tr>\n",
       "      <th>3</th>\n",
       "      <td>No</td>\n",
       "      <td>24.21</td>\n",
       "      <td>No</td>\n",
       "      <td>No</td>\n",
       "      <td>No</td>\n",
       "      <td>0.0</td>\n",
       "      <td>0.0</td>\n",
       "      <td>No</td>\n",
       "      <td>Female</td>\n",
       "      <td>75-79</td>\n",
       "      <td>White</td>\n",
       "      <td>No</td>\n",
       "      <td>No</td>\n",
       "      <td>Good</td>\n",
       "      <td>6.0</td>\n",
       "      <td>No</td>\n",
       "      <td>No</td>\n",
       "      <td>Yes</td>\n",
       "    </tr>\n",
       "    <tr>\n",
       "      <th>4</th>\n",
       "      <td>No</td>\n",
       "      <td>23.71</td>\n",
       "      <td>No</td>\n",
       "      <td>No</td>\n",
       "      <td>No</td>\n",
       "      <td>28.0</td>\n",
       "      <td>0.0</td>\n",
       "      <td>Yes</td>\n",
       "      <td>Female</td>\n",
       "      <td>40-44</td>\n",
       "      <td>White</td>\n",
       "      <td>No</td>\n",
       "      <td>Yes</td>\n",
       "      <td>Very good</td>\n",
       "      <td>8.0</td>\n",
       "      <td>No</td>\n",
       "      <td>No</td>\n",
       "      <td>No</td>\n",
       "    </tr>\n",
       "  </tbody>\n",
       "</table>\n",
       "</div>"
      ],
      "text/plain": [
       "  HeartDisease    BMI Smoking AlcoholDrinking Stroke  PhysicalHealth  \\\n",
       "0           No  16.60     Yes              No     No             3.0   \n",
       "1           No  20.34      No              No    Yes             0.0   \n",
       "2           No  26.58     Yes              No     No            20.0   \n",
       "3           No  24.21      No              No     No             0.0   \n",
       "4           No  23.71      No              No     No            28.0   \n",
       "\n",
       "   MentalHealth DiffWalking     Sex  AgeCategory   Race Diabetic  \\\n",
       "0          30.0          No  Female        55-59  White      Yes   \n",
       "1           0.0          No  Female  80 or older  White       No   \n",
       "2          30.0          No    Male        65-69  White      Yes   \n",
       "3           0.0          No  Female        75-79  White       No   \n",
       "4           0.0         Yes  Female        40-44  White       No   \n",
       "\n",
       "  PhysicalActivity  GenHealth  SleepTime Asthma KidneyDisease SkinCancer  \n",
       "0              Yes  Very good        5.0    Yes            No        Yes  \n",
       "1              Yes  Very good        7.0     No            No         No  \n",
       "2              Yes       Fair        8.0    Yes            No         No  \n",
       "3               No       Good        6.0     No            No        Yes  \n",
       "4              Yes  Very good        8.0     No            No         No  "
      ]
     },
     "execution_count": 16,
     "metadata": {},
     "output_type": "execute_result"
    }
   ],
   "source": [
    "df = pd.read_csv('heart_2020_dirty.csv')\n",
    "df.head()"
   ]
  },
  {
   "cell_type": "markdown",
   "metadata": {},
   "source": [
    "Tipicamente, o Body Mass Index é interpretado como um número que informa se uma pessoa é magra, média, tem sobrepeso ou tem obesidade, usando a seguinte tabela:\n",
    "\n",
    "* Below 18.5\tUnderweight\n",
    "* 18.5 – 24.9\tHealthy Weight\n",
    "* 25.0 – 29.9\tOverweight\n",
    "* 30.0 and Above\tObesity\n",
    "\n",
    "(a) Verifique como encontrar os dados de Body Mass Index (BMI) em nosso dataframe. Se necessário, realize a limpeza dos dados.\n",
    "\n",
    "(b) Calcule a média e a variância *amostrais* desses dados\n",
    "\n",
    "(c) Se uma pessoa aleatória for sorteada nesses dados, qual é a probabilidade de ela ter o BMI médio, isto é, entre 18.5 e 24.9?\n",
    "\n",
    "(d) Se sorteamos 50 pessoas nos dados, qual é a probabilidade de pelo menos 20 delas terem BMI médio? Que distribuição deve ser usada para isso, e quais os seus parâmetros?\n",
    "\n",
    "(e) Se sorteamos 50 pessoas aleatórias em nosso dataset, quantas pessoas, em média, terão BMI médio?  Que distribuição deve ser usada para isso, e quais os seus parâmetros?\n",
    "\n",
    "(f) Se sortearmos pessoas uma a uma em nosso dataset, após quantas pessoas deveremos encontrar uma pessoa com BMI médio?  Que distribuição deve ser usada para isso, e quais os seus parâmetros?"
   ]
  },
  {
   "cell_type": "code",
   "execution_count": 15,
   "metadata": {},
   "outputs": [
    {
     "name": "stdout",
     "output_type": "stream",
     "text": [
      "Média:  28.3254038224607\n",
      "Variância:  40.40000077018445\n",
      "Probabilidade de ter o BMI médio: 0.2974968339092231\n",
      "Probabilidade de, sorteadas 50 pessoas, pelo menos 20 terem o BMI médio: 0.07877908063633321\n",
      "Média de pessoas com o BMI médio: 15\n",
      "Após 3 pessoas, devemos encontrar uma pessoa com o BMI médio\n"
     ]
    }
   ],
   "source": [
    "#a\n",
    "df_bmi = df['BMI']\n",
    "\n",
    "#b\n",
    "media = np.mean(df['BMI'])\n",
    "variancia = np.var(df['BMI'])\n",
    "print('Média: ', media)\n",
    "print('Variância: ', variancia)\n",
    "\n",
    "#c\n",
    "filtro_bmi_medio = (df_bmi >= 18.5) & (df_bmi <= 24.9)\n",
    "df_filtrado = df_bmi[filtro_bmi_medio]\n",
    "prob = len(df_filtrado)/len(df_bmi)\n",
    "print('Probabilidade de ter o BMI médio:', prob)\n",
    "\n",
    "#d\n",
    "x = 1 - stats.binom.cdf(19, 50, prob)\n",
    "print('Probabilidade de, sorteadas 50 pessoas, pelo menos 20 terem o BMI médio:', x)\n",
    "\n",
    "#Distribuição Binomial\n",
    "# Parâmetros: n (número de tentativas) = 50, p (probabilidade de sucesso) = prob\n",
    "\n",
    "#e\n",
    "media = stats.binom.mean(50, prob)\n",
    "print(f'Média de pessoas com o BMI médio: {media:.0f}')\n",
    "\n",
    "#Distribuição Binomial\n",
    "# Parâmetros: n (número de tentativas) = 50, p (probabilidade de sucesso) = prob\n",
    "\n",
    "#f\n",
    "print(f'Após {1/prob:.0f} pessoas, devemos encontrar uma pessoa com o BMI médio')\n"
   ]
  },
  {
   "cell_type": "markdown",
   "metadata": {},
   "source": [
    "# Exercício 2"
   ]
  },
  {
   "cell_type": "markdown",
   "metadata": {},
   "source": [
    "O senso comum nos diz que pessoas que fumam e bebem tendem a ter o BMI maior que aquelas que não fumam nem bebem. Verificaremos se isso se aplica ao nosso dataset.\n",
    "\n",
    "Use um histograma para avaliar a distribuição de BMI entre indivíduos que fumam e bebem e, simultaneamente, em indivíduos que não fumam nem bebem.\n"
   ]
  },
  {
   "cell_type": "code",
   "execution_count": 26,
   "metadata": {},
   "outputs": [
    {
     "data": {
      "image/png": "[encoded data removed]",
      "text/plain": [
       "<Figure size 640x480 with 1 Axes>"
      ]
     },
     "metadata": {},
     "output_type": "display_data"
    }
   ],
   "source": [
    "filtro_fumam_e_bebem = (df['Smoking'] == 'Yes') & (df['AlcoholDrinking'] == 'Yes')\n",
    "df_fumam_e_bebem = df[filtro_fumam_e_bebem]\n",
    "\n",
    "filtro_nao_fumam_e_nao_bebem = (df['Smoking'] == 'No') & (df['AlcoholDrinking'] == 'No')\n",
    "df_nao_fumam_e_nao_bebem = df[filtro_nao_fumam_e_nao_bebem]\n",
    "\n",
    "plt.hist(df_nao_fumam_e_nao_bebem['BMI'], bins=30, label='Não fuma e não bebe', color='#0aa8ad', density=True, edgecolor='black', alpha=0.5)\n",
    "plt.hist(df_fumam_e_bebem['BMI'], bins=30, label='Fuma e bebe', color='#e3830e',  edgecolor='black', density=True, alpha=0.5)\n",
    "plt.ylabel('Frequência (densidade de pessoas)')\n",
    "plt.xlabel('BMI')\n",
    "plt.title('As pessoas que fumam e bebem possuem um BMI maior que as que não fumam e não bebem?')\n",
    "plt.legend()\n",
    "plt.show()\n"
   ]
  },
  {
   "cell_type": "markdown",
   "metadata": {},
   "source": [
    "# Exercício 3\n",
    "\n",
    "Usando um método de inferência estatística, verifique se a média de BMI dos indivíduos que praticam esportes é diferente da média de BMI dos indivíduos que não praticam esportes. Justifique sua resposta com suas palavras, num texto que use, obrigatoriamente, os conceitos de hipótese nula, p-valor, teste estatístico e nível de significância $\\alpha$. Se precisar, assuma valores razoáveis para constantes.\n",
    "\n",
    "Devido ao fato de o p-valor (0%) do teste estatístico (t-test) ter sido menor do que o nível de significância (0.05 ou 5%), podemos concluir que a média de BMI dos indivíduos que praticam esportes é diferente da média de BMI dos indivíduos que não praticam esportes. Logo, a hipótese nula é rejeitada, já que esta afirma que a média de BMI dos indivíduos que praticam esportes é igual à média de BMI dos indivíduos que não praticam esportes."
   ]
  },
  {
   "cell_type": "code",
   "execution_count": 28,
   "metadata": {},
   "outputs": [
    {
     "name": "stdout",
     "output_type": "stream",
     "text": [
      "Ttest_indResult(statistic=-86.15781297312603, pvalue=0.0)\n"
     ]
    }
   ],
   "source": [
    "filtro_esportistas = df['PhysicalActivity'] == 'Yes'\n",
    "df_esportistas = df[filtro_esportistas]\n",
    "\n",
    "filtro_nao_esportistas = df['PhysicalActivity'] == 'No'\n",
    "df_nao_esportistas = df[filtro_nao_esportistas]\n",
    "\n",
    "print(stats.ttest_ind(df_esportistas['BMI'].dropna(), df_nao_esportistas['BMI'].dropna()))"
   ]
  },
  {
   "cell_type": "markdown",
   "metadata": {},
   "source": [
    "# Exercício 4\n",
    "\n",
    "De acordo com os dados que levantamos ao longo de toda esta atividade, a prática de atividade física pode ser usada como intervenção única para que uma pessoa com obesidade possa voltar ao peso normal, ou é essencial que ela esteja ligada a outras intervenções? Justifique sua resposta evidenciando todos os dados que foram usados e quais raciocínios devemos usar para sustentar essa conclusão."
   ]
  },
  {
   "cell_type": "markdown",
   "metadata": {},
   "source": []
  }
 ],
 "metadata": {
  "kernelspec": {
   "display_name": "Python 3.10.2 64-bit",
   "language": "python",
   "name": "python3"
  },
  "language_info": {
   "codemirror_mode": {
    "name": "ipython",
    "version": 3
   },
   "file_extension": ".py",
   "mimetype": "text/x-python",
   "name": "python",
   "nbconvert_exporter": "python",
   "pygments_lexer": "ipython3",
   "version": "3.10.2"
  },
  "orig_nbformat": 4,
  "vscode": {
   "interpreter": {
    "hash": "9be826744cc5714b462ad0c8de88bfa6f016a48973c6317b9546595d1685cabb"
   }
  }
 },
 "nbformat": 4,
 "nbformat_minor": 2
}
