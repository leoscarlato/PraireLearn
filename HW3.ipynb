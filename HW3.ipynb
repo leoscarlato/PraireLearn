{
 "cells": [
  {
   "cell_type": "markdown",
   "metadata": {},
   "source": [
    "<h2>Exercício 8</h2>"
   ]
  },
  {
   "cell_type": "code",
   "execution_count": 1,
   "metadata": {},
   "outputs": [
    {
     "name": "stdout",
     "output_type": "stream",
     "text": [
      "0.2777777777777778\n"
     ]
    }
   ],
   "source": [
    "#50% da especie A\n",
    "#90% chance de atingir tamanho maior que 10cm\n",
    "#Especie A -> 0.5 de atingir tamanho maior que 10cm\n",
    "\n",
    "P_10 = 0.9\n",
    "P_10_A = 0.5\n",
    "P_A = 0.5\n",
    "\n",
    "P_A_10 = P_10_A * P_A / P_10\n",
    "print(P_A_10)\n"
   ]
  },
  {
   "cell_type": "markdown",
   "metadata": {},
   "source": [
    "<h2>Exercício 9</h2>"
   ]
  },
  {
   "cell_type": "code",
   "execution_count": 3,
   "metadata": {},
   "outputs": [
    {
     "name": "stdout",
     "output_type": "stream",
     "text": [
      "0.56\n",
      "0.9642857142857143\n"
     ]
    }
   ],
   "source": [
    "P_doente = 0.9\n",
    "P_positivo_doente = 0.6\n",
    "P_positivo_saudavel = 0.2\n",
    "\n",
    "P_positivo = P_doente * P_positivo_doente + (1 - P_doente) * P_positivo_saudavel\n",
    "print(P_positivo)\n",
    "\n",
    "P_doente_positivo = P_positivo_doente * P_doente / (P_positivo_doente * P_doente + P_positivo_saudavel * (1 - P_doente))\n",
    "print(P_doente_positivo)"
   ]
  }
 ],
 "metadata": {
  "kernelspec": {
   "display_name": "Python 3.10.2 64-bit",
   "language": "python",
   "name": "python3"
  },
  "language_info": {
   "codemirror_mode": {
    "name": "ipython",
    "version": 3
   },
   "file_extension": ".py",
   "mimetype": "text/x-python",
   "name": "python",
   "nbconvert_exporter": "python",
   "pygments_lexer": "ipython3",
   "version": "3.10.2"
  },
  "orig_nbformat": 4,
  "vscode": {
   "interpreter": {
    "hash": "9be826744cc5714b462ad0c8de88bfa6f016a48973c6317b9546595d1685cabb"
   }
  }
 },
 "nbformat": 4,
 "nbformat_minor": 2
}
