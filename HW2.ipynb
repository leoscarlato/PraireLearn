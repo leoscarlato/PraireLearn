{
 "cells": [
  {
   "cell_type": "markdown",
   "metadata": {},
   "source": [
    "<h2> Exercício 6</h2>"
   ]
  },
  {
   "cell_type": "markdown",
   "metadata": {},
   "source": [
    "Considerando apenas os países que ganharam pelo menos uma medalha nos Jogos Olímpicos de 2012, as seguintes probabilidades foram observadas ao analisar, conjuntamente, o índice de desenvolvimento humano (IDH ≥ 0,75 ou IDH < 0,75) de 2011 e o tipo de medalha olímpica (ouro, prata ou bronze).\n",
    "\n",
    "A probabilidade de um atleta, que pertence a um destes países, ganhar uma medalha de ouro é de 31.6%. Se um país tem IDH igual ou superior a 0,75, então a probabilidade de um atleta ganhar uma medalha de ouro é 34% e, na mesma condição, a de um atleta ganhar uma medalha de prata é de 32.8%.\n",
    "\n",
    "Entre países com IDH inferior a 0,75, a probabilidade de um atleta ganhar uma medalha de ouro é 23.3%.\n",
    "\n",
    "Por fim, se um atleta ganhou uma medalha de bronze, a probabilidade de que ele pertença a um país com IDH inferior a 0,75 é de 38.7%.\n",
    "\n",
    "Considerando apenas os países que ganharam pelo menos uma medalha nos Jogos Olímpicos de 2012, responda:"
   ]
  },
  {
   "cell_type": "code",
   "execution_count": 4,
   "metadata": {},
   "outputs": [
    {
     "name": "stdout",
     "output_type": "stream",
     "text": [
      "0.7706422018348622\n",
      "0.9469221619836705\n"
     ]
    }
   ],
   "source": [
    "P_ouro = 0.315\n",
    "P_ouro_i = 0.34\n",
    "P_prata_i = 0.328\n",
    "P_ouro_nao_i = 0.231\n",
    "P_nao_i_bronze = 0.388\n",
    "P_bronze_i = 1 - P_ouro_i - P_prata_i\n",
    "P_i_bronze = 1 - P_nao_i_bronze\n",
    "\n",
    "P_i = (P_ouro - P_ouro_nao_i) / (P_ouro_i - P_ouro_nao_i)\n",
    "print(P_i)\n",
    "\n",
    "# Calcular a probabilidade de ser prata\n",
    "\n",
    "\n",
    "P_bronze = P_bronze_i * P_i / P_i_bronze\n",
    "\n",
    "P_prata = 1 - P_ouro - P_bronze\n",
    "\n",
    "P_i_prata = P_prata_i * P_i / P_prata\n",
    "print(P_i_prata)\n"
   ]
  }
 ],
 "metadata": {
  "kernelspec": {
   "display_name": "Python 3.10.2 64-bit",
   "language": "python",
   "name": "python3"
  },
  "language_info": {
   "codemirror_mode": {
    "name": "ipython",
    "version": 3
   },
   "file_extension": ".py",
   "mimetype": "text/x-python",
   "name": "python",
   "nbconvert_exporter": "python",
   "pygments_lexer": "ipython3",
   "version": "3.10.2"
  },
  "orig_nbformat": 4,
  "vscode": {
   "interpreter": {
    "hash": "9be826744cc5714b462ad0c8de88bfa6f016a48973c6317b9546595d1685cabb"
   }
  }
 },
 "nbformat": 4,
 "nbformat_minor": 2
}
