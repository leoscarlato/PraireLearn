{
 "cells": [
  {
   "cell_type": "code",
   "execution_count": 1,
   "metadata": {},
   "outputs": [],
   "source": [
    "from scipy import stats"
   ]
  },
  {
   "cell_type": "code",
   "execution_count": 17,
   "metadata": {},
   "outputs": [
    {
     "name": "stdout",
     "output_type": "stream",
     "text": [
      " P(X<=85) = 0.006209665325776132\n",
      " P(X>=72 | X<94) = 0.054726943655632854\n",
      " O número c tal que P(X<c) = 0.970 = 128.8079360815125\n",
      " O número d tal que P(X>d) = 0.932 = 95.09146644753339\n",
      " O número e tal que P(110-e <= X <= 110 + e) = 0.99 = 25.758293035489004\n"
     ]
    }
   ],
   "source": [
    "# Para X ~ N(110,100) calcular:\n",
    "\n",
    "# a) P(X<=85)\n",
    "# Resposta:\n",
    "print(f' P(X<=85) = {stats.norm.cdf(85,110,10)}')\n",
    "\n",
    "\n",
    "# c) O número c tal que P(X<c) = 0.970\n",
    "# Resposta:\n",
    "print(f' O número c tal que P(X<c) = 0.970 = {stats.norm.ppf(0.970,110,10)}')\n",
    "\n",
    "# d) O número d tal que P(X>d) = 0.932\n",
    "# Resposta:\n",
    "print(f' O número d tal que P(X>d) = 0.932 = {stats.norm.ppf(1-0.932,110,10)}')\n",
    "\n",
    "# e) O número e tal que P(110-e <= X <= 110 + e) = 0.99\n",
    "# Resposta:\n",
    "print(f' O número e tal que P(110-e <= X <= 110 + e) = 0.99 = {stats.norm.ppf(0.995,110,10) - 110}')"
   ]
  },
  {
   "cell_type": "code",
   "execution_count": 26,
   "metadata": {},
   "outputs": [
    {
     "ename": "AttributeError",
     "evalue": "'norm_gen' object has no attribute 'pmf'",
     "output_type": "error",
     "traceback": [
      "\u001b[1;31m---------------------------------------------------------------------------\u001b[0m",
      "\u001b[1;31mAttributeError\u001b[0m                            Traceback (most recent call last)",
      "\u001b[1;32mc:\\Users\\leona\\PraireLearn - CDADOS\\PraireLearn\\HW8.ipynb Cell 3\u001b[0m in \u001b[0;36m<cell line: 3>\u001b[1;34m()\u001b[0m\n\u001b[0;32m      <a href='vscode-notebook-cell:/c%3A/Users/leona/PraireLearn%20-%20CDADOS/PraireLearn/HW8.ipynb#W3sZmlsZQ%3D%3D?line=0'>1</a>\u001b[0m \u001b[39m# Calcular P(X >= 72 | X < 94)\u001b[39;00m\n\u001b[0;32m      <a href='vscode-notebook-cell:/c%3A/Users/leona/PraireLearn%20-%20CDADOS/PraireLearn/HW8.ipynb#W3sZmlsZQ%3D%3D?line=1'>2</a>\u001b[0m \u001b[39m# Resposta:\u001b[39;00m\n\u001b[1;32m----> <a href='vscode-notebook-cell:/c%3A/Users/leona/PraireLearn%20-%20CDADOS/PraireLearn/HW8.ipynb#W3sZmlsZQ%3D%3D?line=2'>3</a>\u001b[0m \u001b[39mprint\u001b[39m(\u001b[39mf\u001b[39m\u001b[39m'\u001b[39m\u001b[39m P(X >= 72 | X < 94) = \u001b[39m\u001b[39m{\u001b[39;00mstats\u001b[39m.\u001b[39mnorm\u001b[39m.\u001b[39mcdf(\u001b[39m94\u001b[39m,\u001b[39m110\u001b[39m,\u001b[39m10\u001b[39m) \u001b[39m-\u001b[39m stats\u001b[39m.\u001b[39mnorm\u001b[39m.\u001b[39mpmf(\u001b[39m72\u001b[39m,\u001b[39m110\u001b[39m,\u001b[39m10\u001b[39m)\u001b[39m}\u001b[39;00m\u001b[39m'\u001b[39m)\n",
      "\u001b[1;31mAttributeError\u001b[0m: 'norm_gen' object has no attribute 'pmf'"
     ]
    }
   ],
   "source": [
    "# Calcular P(X >= 72 | X < 94)\n",
    "# Resposta:\n",
    "print(f' P(X >= 72 | X < 94) = {stats.norm.cdf(94,110,10) - stats.norm.pmf(72,110,10)}')"
   ]
  }
 ],
 "metadata": {
  "kernelspec": {
   "display_name": "Python 3.10.2 64-bit",
   "language": "python",
   "name": "python3"
  },
  "language_info": {
   "codemirror_mode": {
    "name": "ipython",
    "version": 3
   },
   "file_extension": ".py",
   "mimetype": "text/x-python",
   "name": "python",
   "nbconvert_exporter": "python",
   "pygments_lexer": "ipython3",
   "version": "3.10.2"
  },
  "orig_nbformat": 4,
  "vscode": {
   "interpreter": {
    "hash": "9be826744cc5714b462ad0c8de88bfa6f016a48973c6317b9546595d1685cabb"
   }
  }
 },
 "nbformat": 4,
 "nbformat_minor": 2
}
