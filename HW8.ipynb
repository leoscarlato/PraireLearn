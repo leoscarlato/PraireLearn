{
 "cells": [
  {
   "cell_type": "code",
   "execution_count": 2,
   "metadata": {},
   "outputs": [],
   "source": [
    "from scipy import stats"
   ]
  },
  {
   "cell_type": "code",
   "execution_count": 3,
   "metadata": {},
   "outputs": [
    {
     "name": "stdout",
     "output_type": "stream",
     "text": [
      "0.015130140010235814\n",
      "0.9854612326318175\n",
      "139.569523297815\n",
      "98.83077734856859\n",
      "30.909951642586805\n"
     ]
    }
   ],
   "source": [
    "# Para X ~ N(117,144) calcular:\n",
    "\n",
    "# a) P(X <= 91)\n",
    "print(stats.norm.cdf(91, 117, 12))\n",
    "\n",
    "# b) P( X >= 82 | X < 103)\n",
    "parte_82 = stats.norm.cdf(82, 117, 12)\n",
    "parte_103 = stats.norm.cdf(103, 117, 12)\n",
    "maior_82_menor_103 = parte_103 - parte_82\n",
    "\n",
    "print(maior_82_menor_103 / parte_103)\n",
    "\n",
    "# c) O número c tal que P(x<c) = 0.970\n",
    "print(stats.norm.ppf(0.970, 117, 12))\n",
    "\n",
    "# d) O número d tal que P(x>d) = 0.935\n",
    "print(stats.norm.isf(0.935, 117, 12))\n",
    "\n",
    "# e) O número e tal que P(117-e <= X <= 117+e) = 0.99\n",
    "print(stats.norm.ppf(0.995, 117, 12)-117)\n",
    "\n"
   ]
  },
  {
   "cell_type": "code",
   "execution_count": 7,
   "metadata": {},
   "outputs": [
    {
     "name": "stdout",
     "output_type": "stream",
     "text": [
      "7.734160717791257\n",
      "5.82173027299792\n"
     ]
    }
   ],
   "source": [
    "media = 7\n",
    "desvio = 1.4\n",
    "\n",
    "#30% (maiores notas) -> aprovados\n",
    "#50% (notas intermediárias) -> exame\n",
    "#20% (menores notas) -> reprovados\n",
    "\n",
    "# Nota limite entre as categorias \"maiores notas\" e \"notas intermediárias\" -> menor nota de aprovação\n",
    "print(stats.norm.ppf(0.7, media, desvio)) #item a\n",
    "\n",
    "# Nota limite entre as categorias \"notas intermediárias\" e \"menores notas\" -> menor nota de exame\n",
    "print(stats.norm.ppf(0.2, media, desvio)) #item b"
   ]
  }
 ],
 "metadata": {
  "kernelspec": {
   "display_name": "Python 3.10.2 64-bit",
   "language": "python",
   "name": "python3"
  },
  "language_info": {
   "codemirror_mode": {
    "name": "ipython",
    "version": 3
   },
   "file_extension": ".py",
   "mimetype": "text/x-python",
   "name": "python",
   "nbconvert_exporter": "python",
   "pygments_lexer": "ipython3",
   "version": "3.10.2"
  },
  "orig_nbformat": 4,
  "vscode": {
   "interpreter": {
    "hash": "9be826744cc5714b462ad0c8de88bfa6f016a48973c6317b9546595d1685cabb"
   }
  }
 },
 "nbformat": 4,
 "nbformat_minor": 2
}
