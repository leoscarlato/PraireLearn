{
 "cells": [
  {
   "cell_type": "code",
   "execution_count": 1,
   "metadata": {},
   "outputs": [],
   "source": [
    "from scipy import stats"
   ]
  },
  {
   "cell_type": "code",
   "execution_count": 62,
   "metadata": {},
   "outputs": [
    {
     "name": "stdout",
     "output_type": "stream",
     "text": [
      "Probabilidade de pelo menos um bloco de dados ser reenviado:  0.7510379188182283\n",
      "Probabilidade de pelo menos dois blocos de dados serem reenviados:  0.9380178821336409\n"
     ]
    }
   ],
   "source": [
    "# Uma mensagem requer 92 blocos de dados\n",
    "\n",
    "P_perder_bloco_de_dados = 0.015\n",
    "\n",
    "P_minimo_1_bloco_reenviado = 1 - (1 - P_perder_bloco_de_dados)**92\n",
    "\n",
    "print(\"Probabilidade de pelo menos um bloco de dados ser reenviado: \", P_minimo_1_bloco_reenviado)\n",
    "\n",
    "P_minimo_2_bloco_reenviado = 1 - (1 - P_perder_bloco_de_dados)**184\n",
    "\n",
    "print(\"Probabilidade de pelo menos dois blocos de dados serem reenviados: \", P_minimo_2_bloco_reenviado)\n",
    "\n",
    "\n"
   ]
  }
 ],
 "metadata": {
  "kernelspec": {
   "display_name": "Python 3.10.2 64-bit",
   "language": "python",
   "name": "python3"
  },
  "language_info": {
   "codemirror_mode": {
    "name": "ipython",
    "version": 3
   },
   "file_extension": ".py",
   "mimetype": "text/x-python",
   "name": "python",
   "nbconvert_exporter": "python",
   "pygments_lexer": "ipython3",
   "version": "3.10.2"
  },
  "orig_nbformat": 4,
  "vscode": {
   "interpreter": {
    "hash": "9be826744cc5714b462ad0c8de88bfa6f016a48973c6317b9546595d1685cabb"
   }
  }
 },
 "nbformat": 4,
 "nbformat_minor": 2
}
