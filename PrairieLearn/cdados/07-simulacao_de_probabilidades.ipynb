{
 "cells": [
  {
   "cell_type": "markdown",
   "metadata": {},
   "source": [
    "# Simulação de probabilidades em Python"
   ]
  },
  {
   "cell_type": "code",
   "execution_count": 2,
   "metadata": {},
   "outputs": [],
   "source": [
    "import numpy as np"
   ]
  },
  {
   "cell_type": "markdown",
   "metadata": {},
   "source": [
    "Probabilidade é um tipo de fenômeno que está ligado a experimentos dos quais não sabemos os resultados. Um experimento pode ser algo simples, como jogar um dado (resultando num número entre 1 e 6) ou uma moeda, (resultando em cara ou coroa) mas também pode ser algo mais complicado, como investir em uma ação (resultando em lucro ou prejuízo).\n",
    "\n",
    "Uma das possíveis visões para probabilidade é que, se realizarmos um experimento muitas vezes, podemos encontrar a probabilidade do resultado $x$, isto é, $P(x)$ tal que:"
   ]
  },
  {
   "cell_type": "markdown",
   "metadata": {},
   "source": [
    "$$\n",
    "P(x) = \\frac{\\text{\\# resultados favoráveis}}{\\text{\\# total de experimentos}}\n",
    "$$\n",
    "\n",
    "onde:\n",
    "* $\\text{\\# total de experimentos}$ é a quantidade de vezes em que o experimento é realizado\n",
    "* $\\text{\\# resultados favoráveis}$ é a quantidade de vezes em que o resultado do experimento obedece a algum critério de interesse.\n",
    "\n",
    "Por exemplo, no caso das ações, poderíamos calcular $P(\\text{lucro})$ ou $P(\\text{prejuízo})$, no caso da moeda, poderíamos calcular $P(\\text{cara})$ ou $P(\\text{coroa})$, e assim por diante."
   ]
  },
  {
   "cell_type": "markdown",
   "metadata": {},
   "source": [
    "# Exercício 1: jogar um dado\n",
    "*Objetivo: usar a seleção aleatória para simular jogadores aleatórios*\n",
    "\n",
    "Um experimento muito comum ligado à probabilidade é jogar um dado e torcer para que ele resulte no número que queremos. Jogar um dado é o mesmo que sortear um número entre 1 e 6!\n",
    "\n",
    "Para sortear entre os elementos de um conjunto, usamos a função `np.random.choice()`, que recebe como entrada um `array` contendo os elementos dos quais queremos sortear alguma coisa:"
   ]
  },
  {
   "cell_type": "code",
   "execution_count": 3,
   "metadata": {},
   "outputs": [
    {
     "name": "stdout",
     "output_type": "stream",
     "text": [
      "5\n"
     ]
    }
   ],
   "source": [
    "dado = np.array([1, 2, 3, 4, 5, 6])\n",
    "tirei = np.random.choice(dado)\n",
    "print(tirei)"
   ]
  },
  {
   "cell_type": "markdown",
   "metadata": {},
   "source": [
    "Em jogos de Dungeons & Dragons, é comum usar dados diferentes, com 4, 6, 8, 10, 12 ou 20 faces. Modifique o código acima para que ele passe a simular as jogadas em um dado de 4 faces.\n",
    "\n",
    "# Exercício 2: simular a jogada de um dado\n",
    "*Objetivo: comparar o resultado de uma simulação com um resultado teórico sobre a jogada de dados*\n",
    "\n",
    "Quando jogamos um dado (de seis lados!), existem 6 resultados diferentes possíveis. Se o dado for honesto (não-viciado), então todos os resultados são igualmente prováveis. Então, a probabilidade de tirar 6 (que é uma possibilidade dentre as pode ser calculada, em teoria, como:\n",
    "\n",
    "$P(1) = \\frac{1}{6}$\n",
    "\n",
    "Também podemos estimar a probabilidade realizando o experimento através de uma simulação, como no código abaixo.\n",
    "\n",
    "1. Quantas vezes a simulação é repetida?\n",
    "1. Qual é a diferença entre o resultado da simulação e o resultado teórico?\n",
    "1. Quando aumentamos o número de repetições da simulação, a diferença entre o resultado simulado e o teórico aumenta o diminui?"
   ]
  },
  {
   "cell_type": "code",
   "execution_count": 4,
   "metadata": {},
   "outputs": [
    {
     "name": "stdout",
     "output_type": "stream",
     "text": [
      "0.166\n"
     ]
    }
   ],
   "source": [
    "dado = np.array([1, 2, 3, 4, 5, 6])\n",
    "favoravel = 0\n",
    "total = 0\n",
    "for i in range(1000):    \n",
    "    tirei = np.random.choice(dado)\n",
    "    total += 1\n",
    "    if tirei == 6:\n",
    "        favoravel += 1\n",
    "\n",
    "print(favoravel / total)"
   ]
  },
  {
   "cell_type": "markdown",
   "metadata": {},
   "source": [
    "# Exercício 3: outros resultados favoráveis\n",
    "*Objetivo: calcular, em teoria e em simulação, uma probabilidade relacioada a experimentos aleatórios*\n",
    "\n",
    "1. Calcule, **na teoria**, qual é a probabilidade de jogar um dado de seis lados e obter um resultado par.\n",
    "1. Realize **uma simulação** que estime essa mesma probabilidade."
   ]
  },
  {
   "cell_type": "markdown",
   "metadata": {},
   "source": [
    "# Exercício 4: sorteios sem reposição\n",
    "*Objetivo: usar o `np.random.choice` para realizar sorteios sem reposição*\n",
    "\n",
    "Leia o código abaixo e execute quantas vezes achar necessário.\n",
    "\n",
    "1. O que o código faz?\n",
    "1. O que o parâmetro `size=2` significa?\n",
    "1. O que o parâmetro `replace=False` significa?"
   ]
  },
  {
   "cell_type": "code",
   "execution_count": 5,
   "metadata": {},
   "outputs": [
    {
     "name": "stdout",
     "output_type": "stream",
     "text": [
      "['el2' 'el3']\n"
     ]
    }
   ],
   "source": [
    "elementos = np.array(['el1', 'el2', 'el3', 'el4'])\n",
    "sorteio = np.random.choice(elementos, size=2, replace=False)\n",
    "print(sorteio)"
   ]
  },
  {
   "cell_type": "markdown",
   "metadata": {},
   "source": [
    "# Exercício 5: probabilidades em sorteios sem reposição\n",
    "*Objetivo: calcular probabilidades relacionadas a sorteios sem reposição*\n",
    "\n",
    "Uma máquina de bingo tem 60 bolas, numeradas de 1 a 20. Usando simulação, determine a probabilidade de, se retirarmos 5 bolas, encontrarmos somente números ímpares?\n"
   ]
  },
  {
   "cell_type": "markdown",
   "metadata": {},
   "source": [
    "# Exercício 6: Dados viciados\n",
    "*Objetivo: calcular sorteios com viéses*\n",
    "\n",
    "Nem todos os dados são honestos - assim como nem todas as possibilidades de diversos experimentos têm a mesma chance de acontecer! Para \"viciar\" nosso dado (ou atribuir probabilidades diferentes aos resultados de algum experimento) usamos o parâmetro `p`, como em: `np.random.choice(dado, p=prob)`.\n",
    "\n",
    "1. Verifique como funciona o código abaixo. Qual variável deve ser modificada para alterar a \"desonestidade\" do dado?\n",
    "2. Modifique o código de forma que o dado passe a resultar mais provavelmente em números ímpares.\n",
    "3. Usando a simulação, confirme que a sua alteração no dado está funcionando."
   ]
  },
  {
   "cell_type": "code",
   "execution_count": 6,
   "metadata": {},
   "outputs": [
    {
     "name": "stdout",
     "output_type": "stream",
     "text": [
      "0.5935\n"
     ]
    }
   ],
   "source": [
    "dado = np.array([1, 2, 3, 4, 5, 6])\n",
    "prob = np.array([0.0, 0, 0, 0.2, 0.2, 0.6])\n",
    "\n",
    "favoravel = 0\n",
    "total = 0\n",
    "for i in range(10000):    \n",
    "    tirei = np.random.choice(dado, p=prob)\n",
    "    total += 1\n",
    "    if tirei == 6:\n",
    "        favoravel += 1\n",
    "\n",
    "print(favoravel / total)"
   ]
  },
  {
   "cell_type": "markdown",
   "metadata": {},
   "source": [
    "# Exercício 7: Jogar dado duas vezes e eventos independentes\n",
    "*Objetivo: usar o conceito de eventos independentes para calcular probabilidades ligadas a dois eventos*\n",
    "\n",
    "Em algumas situações, um experimento anterior não tem impacto nenhum sobre o resultado do experimento seguinte. Nesse caso, dizemos que os respectivos eventos são *independentes*. Um exemplo disso é jogarmos um dado duas vezes.\n",
    "\n",
    "1. Qual é a probabilidade do resultado da segunda jogada ser igual ao resultado da primeira?\n",
    "2. Como isso se compara com a chance do resultado da segunda jogada ser um valor específico, como 6?"
   ]
  },
  {
   "cell_type": "code",
   "execution_count": 8,
   "metadata": {},
   "outputs": [
    {
     "name": "stdout",
     "output_type": "stream",
     "text": [
      "0.1668\n"
     ]
    }
   ],
   "source": [
    "dado = np.array([1, 2, 3, 4, 5, 6])\n",
    "favoravel = 0\n",
    "total = 0\n",
    "for i in range(10000):    \n",
    "    tirei1 = np.random.choice(dado)\n",
    "    tirei2 = np.random.choice(dado)\n",
    "    total += 1\n",
    "    if tirei1 == tirei2:\n",
    "        favoravel += 1\n",
    "\n",
    "print(favoravel / total)"
   ]
  },
  {
   "cell_type": "code",
   "execution_count": null,
   "metadata": {},
   "outputs": [],
   "source": []
  },
  {
   "cell_type": "markdown",
   "metadata": {},
   "source": [
    "# Exercício 8: problema de estimação de custo\n",
    "*Objetivo: aplicar a ideia de custo a uma simulação*\n",
    "\n",
    "Num jogo de dados, um jogador aposta uma determinada quantia em dinheiro e então joga o dado. Caso o dado saia com o número 6 para cima, o jogador recebe cinco vezes a quantia apostada. Caso contrário, não recebe nada. Através de uma simulação, demonstre: se o jogador jogar muitas vezes, sua tendência vai ser ganhar dinheiro ou perder dinheiro?"
   ]
  },
  {
   "cell_type": "markdown",
   "metadata": {},
   "source": []
  }
 ],
 "metadata": {
  "interpreter": {
   "hash": "b3ba2566441a7c06988d0923437866b63cedc61552a5af99d1f4fb67d367b25f"
  },
  "kernelspec": {
   "display_name": "Python 3.9.7 ('base')",
   "language": "python",
   "name": "python3"
  },
  "language_info": {
   "codemirror_mode": {
    "name": "ipython",
    "version": 3
   },
   "file_extension": ".py",
   "mimetype": "text/x-python",
   "name": "python",
   "nbconvert_exporter": "python",
   "pygments_lexer": "ipython3",
   "version": "3.7.12"
  },
  "orig_nbformat": 4
 },
 "nbformat": 4,
 "nbformat_minor": 2
}
