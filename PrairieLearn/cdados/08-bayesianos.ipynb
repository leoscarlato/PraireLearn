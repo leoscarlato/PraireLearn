{
 "cells": [
  {
   "cell_type": "markdown",
   "metadata": {},
   "source": [
    "# Exercício 1: Probabilidade conjunta e intersecção de eventos\n",
    "*Objetivo: calcular probabilidades ligadas à intersecção de eventos*\n",
    "\n",
    "Já sabemos que duas jogadas de dados são independentes. Mas, qual é a chance de tirarmos um duplo-6 ao jogar dois dados?"
   ]
  },
  {
   "cell_type": "code",
   "execution_count": null,
   "metadata": {},
   "outputs": [
    {
     "name": "stdout",
     "output_type": "stream",
     "text": [
      "0.02805\n"
     ]
    }
   ],
   "source": [
    "dado = np.array([1, 2, 3, 4, 5, 6])\n",
    "favoravel = 0\n",
    "total = 0\n",
    "for i in range(100000):    \n",
    "    tirei1 = np.random.choice(dado)\n",
    "    tirei2 = np.random.choice(dado)\n",
    "    total += 1\n",
    "    if tirei1 == 6 and tirei2 == 6:\n",
    "        favoravel += 1\n",
    "\n",
    "print(favoravel / total)"
   ]
  },
  {
   "cell_type": "markdown",
   "metadata": {},
   "source": [
    "Como os experimentos são independentes, e queremos calcular a probabilidade de resultados específicos deles, podemos simplesmente multiplicar as probabilidades individuais:\n",
    "\n",
    "$$\n",
    "P(d_1 = 6 \\cap d_2=6) = P(d_1 = 6, d_2=6) = P(d_1=6) P(d_2=6)\n",
    "$$\n",
    "\n",
    "# Exercício 2: Probabilidade conjunta para experimentos dependentes\n",
    "*Objetivo: usar simulações para calcular probabilidades conjuntas quando eventos são dependentes*\n",
    "\n",
    "Em algumas situações, o resultado de um experimento é dependente do resultado de outro. Um exemplo disso é jogarmos dois dados e querermos a probabilidade da segunda jogada ter resultado maior que a primeira.\n",
    "\n",
    "Essa probabilidade pode ser obtida através de simulação: "
   ]
  },
  {
   "cell_type": "code",
   "execution_count": null,
   "metadata": {},
   "outputs": [
    {
     "name": "stdout",
     "output_type": "stream",
     "text": [
      "0.411\n"
     ]
    }
   ],
   "source": [
    "dado = np.array([1, 2, 3, 4, 5, 6])\n",
    "favoravel = 0\n",
    "total = 0\n",
    "for i in range(1000):    \n",
    "    tirei1 = np.random.choice(dado)\n",
    "    tirei2 = np.random.choice(dado)\n",
    "    total += 1\n",
    "    if tirei2 > tirei1 :\n",
    "        favoravel += 1\n",
    "\n",
    "print(favoravel / total)"
   ]
  },
  {
   "cell_type": "markdown",
   "metadata": {},
   "source": [
    "Uma possível maneira de entender melhor esse processo é fazendo uma tabela com todas as possibilidades, marcando F quando as células representarem elementos favoráveis:\n",
    "\n",
    "| Dado 1 | 1 | 2 | 3 | 4 | 5 | 6 |\n",
    "| --- | --- | --- | --- | --- | --- | ---  |\n",
    "| Dado 2 | - | -  | - | - | - | - |\n",
    "| 1      | x | x | x | x | x | x |\n",
    "| 2      | F | x | x | x | x | x |\n",
    "| 3      | F | F | x | x | x | x |\n",
    "| 4      | F | F | F | x | x | x |\n",
    "| 5      | F | F | F | F | x | x |\n",
    "| 6      | F | F | F | F | F | x |\n",
    "\n",
    "Contando nossas possibilidades, temos 36 resultados possíveis para o experimento, e 15 resultados favoráveis. Podemos então calcular $15/36=0.42$.\n",
    "\n",
    "Essa é a probabilidade $P(d_2 > d_1)$.\n",
    "\n",
    "1. Faça uma simulação que estime a probabilidade do resultado do segundo dado ser um número par e, simultaneamente, igual ou maior que o resultado do primeiro dado.\n",
    "2. Usando uma tabela, verifique se o resultado da simulação está próximo ao resultado teórico."
   ]
  },
  {
   "cell_type": "code",
   "execution_count": null,
   "metadata": {},
   "outputs": [
    {
     "data": {
      "text/plain": [
       "0.4166666666666667"
      ]
     },
     "metadata": {},
     "output_type": "display_data"
    }
   ],
   "source": [
    "15/36"
   ]
  },
  {
   "cell_type": "markdown",
   "metadata": {},
   "source": [
    "# Exercício 3: União de eventos\n",
    "*Objetivo: calcular probabilidades ligadas a situações tipo \"ou\"*\n",
    "\n",
    "Agora, vamos jogar uma moeda. Qual é a probabilidade de sair \"cara\" na primeira **ou** sair \"cara\" na segunda?"
   ]
  },
  {
   "cell_type": "code",
   "execution_count": null,
   "metadata": {},
   "outputs": [
    {
     "name": "stdout",
     "output_type": "stream",
     "text": [
      "0.756\n"
     ]
    }
   ],
   "source": [
    "moeda = np.array(['cara', 'coroa'])\n",
    "favoravel = 0\n",
    "total = 0\n",
    "for i in range(10000):    \n",
    "    tirei1 = np.random.choice(moeda)\n",
    "    tirei2 = np.random.choice(moeda)\n",
    "    total += 1\n",
    "    if tirei1 == 'cara' or tirei2 == 'cara':\n",
    "        favoravel += 1\n",
    "\n",
    "print(favoravel / total)"
   ]
  },
  {
   "cell_type": "markdown",
   "metadata": {},
   "source": [
    "Veja que, neste caso, temos 4 possibilidades:\n",
    "1. cara, cara\n",
    "1. coroa, cara\n",
    "1. cara, coroa\n",
    "1. coroa, coroa\n",
    "\n",
    "A probabilidade de sair \"cara\" na primeira pode ser calculada usando o número de eventos favoráveis (na nossa lista, os eventos 1 e 3, ou seja, dois eventos!) dividido pelo número total de eventos (que são 4), o que nos dá $2/4=0.5$. Podemos fazer um raciocínio semelhante e usar os eventos 1 e 2 (dois eventos) para a probabilidade de sair \"cara\" na segunda moeda.\n",
    "\n",
    "Agora, veja: se calculamos $P(m_1=\\text{cara}) + P(m_2=\\text{cara})$, temos $1$. Isso acontece porque estamos contando duas vezes o evento \"cara, cara\" (evento 1 na nossa lista). Então, para saber a probabilidade de tirar \"cara\" em qualquer uma das moedas, podemos calcular a probabilidade de tirar cara em cada uma delas e então subtrair aquilo que contamos duas vezes, ou:\n",
    "\n",
    "$$\n",
    "P(m_1 = \\text{cara} \\cup m_2=\\text{cara}) = P(m_1=\\text{cara}) + P(m_2=\\text{cara}) - P(m_1=\\text{cara} \\cap m_2=\\text{cara})\n",
    "$$\n",
    "\n",
    "Podemos generalizar esse resultado para:\n",
    "$$\n",
    "P(A \\cup B) = P(A) + P(B) - P(A \\cap B)\n",
    "$$\n",
    "\n",
    "Estime, primeiro usando a simulação, e depois confirmando com a teoria, a probabilidade de jogar dois dados e ter resultado 6 em pelo menos um deles."
   ]
  },
  {
   "cell_type": "markdown",
   "metadata": {},
   "source": [
    "# Exercício 4: probabilidade marginal\n",
    "*Objetivo: calcular probabilidades marginais à partir de probabilidades conjuntas*\n",
    "\n",
    "Algumas vezes, conhecemos a probabilidade de eventos conjuntos. Por exemplo, se estamos arremessando dados independentemente, cada par de resultados pode aparecer com uma probabilidade igual a $1/6^2 = 1/36$, isto é:\n",
    "\n",
    "| Dado 1 | 1 | 2 | 3 | 4 | 5 | 6 |\n",
    "| --- | --- | --- | --- | --- | --- | ---  |\n",
    "| Dado 2 | - | -  | - | - | - | - |\n",
    "| 1      | $1/36$ | $1/36$ | $1/36$ | $1/36$ | $1/36$ | $1/36$ |\n",
    "| 2      | $1/36$ | $1/36$ | $1/36$ | $1/36$ | $1/36$ | $1/36$ |\n",
    "| 3      | $1/36$ | $1/36$ | $1/36$ | $1/36$ | $1/36$ | $1/36$ |\n",
    "| 4      | $1/36$ | $1/36$ | $1/36$ | $1/36$ | $1/36$ | $1/36$ |\n",
    "| 5      | $1/36$ | $1/36$ | $1/36$ | $1/36$ | $1/36$ | $1/36$ |\n",
    "| 6      | $1/36$ | $1/36$ | $1/36$ | $1/36$ | $1/36$ | $1/36$ |\n",
    "\n",
    "Se conhecemos somente esta tabela, como poderíamos estimar a probabilidade do dado 1 dar resultado 6 ($P(d_1=6)$)? A maneira direta é:\n",
    "1. Somar todas as probabilidades da tabela (isso deve dar 1, já que a tabela representa todo o universo de jogadas)\n",
    "1. Somar todas as probabilidades relacionadas a eventos favoráveis ($6 \\times 1/36 = 1/6$)\n",
    "1. Dividir a probabilidade relacionada a eventos favoráveis pela probabilidade total de eventos da tabela.\n",
    "\n",
    "Esse resultado fica especialmente relevante quando não temos tabelas com probabilidades, e sim com contagens.\n",
    "\n",
    "Num restaurante fictício, clientes pedem uma bebida e uma comida. No último fim de semana, seguintes pedidos foram registrados:\n",
    "| Comida | hamburguer | salada |\n",
    "| --- | --- | --- |\n",
    "| Bebida | - | -  | \n",
    "| água | 50 | 250 |\n",
    "| refrigerante | 170 | 20 |\n",
    "| suco | 350 | 350 |\n",
    "\n",
    "1. Se sorteamos um pedido aleatório entre esses, qual é a probabilidade de encontrarmos um pedido de salada e refrigerante?\n",
    "2. Se sortearmos um pedido aleatório entre esses, qual é a probabilidade de encontrarmos um pedido com hamburguer?\n",
    "3. Se sortearmos um pedido aleatório entre esses, qual é a probabilidade de encontrarmos um pedido com suco?"
   ]
  },
  {
   "cell_type": "markdown",
   "metadata": {},
   "source": [
    "# Exercício 5: Probabilidade condicional\n",
    "*Objetivo: calcular probabilidades condicionais*\n",
    "\n",
    "Saber algo sobre eventos é sempre interessante. Informações adicionais podem acabar aumentando nossa capacidade de estimação. Por exemplo, se escolhermos um estado brasileiro ao acaso, há uma probabilidade de $4/26$ que trate-se de um estado da região sudeste. Porém, se sabemos com certeza que o estado selecionado não tem litoral, então a probabilidade de ele estar na região sudeste é de $1$ (MG) em $9$ (MG, AC, RR, AM, RO, TO, MT, GO, MS). Veja que interessante: nossa definição de probabilidade ainda é $P(x) = \\frac{\\text{\\# resultados favoráveis}}{\\text{\\# total de experimentos}}$, mas agora temos um número total de experimentos bem menor!\n",
    "\n",
    "Quando temos uma probabilidade de algum evento $A$ *dado que sabemos* de outro evento $B$, escrevemos:\n",
    "\n",
    "$P(A | B)$\n",
    "\n",
    "Em nosso restaurante fictício, qual é a probabilidade de, ao sortearmos um pedido aleatoriamente, encontrarmos:\n",
    "\n",
    "1. Um pedido que tenha água\n",
    "2. Um pedido que tenha água, sabendo que o pedido selecionado teve salada\n",
    "3. Um pedido que tenha água, sabendo que o pedido selecionado teve hamburguer\n",
    "\n",
    "Após, calcule:\n",
    "1. $P(\\text{comida=salada} | \\text{bebida=refrigerante})$\n",
    "2. $P(\\text{comida=hamburguer} | \\text{bebida=água})$"
   ]
  },
  {
   "cell_type": "markdown",
   "metadata": {},
   "source": [
    "# Exercício 6: Problema de Monty-Hall\n",
    "*Objetivo: usar simulações e teoria em conjunto para um processo de tomada de decisão*\n",
    "\n",
    "Esse problema é bastante famoso. Havia um game-show (parecido com o Silvio Santos) no meio do Século XX nos Estados Unidos, que inspirou o nome do problema - mesmo que o próprio Monty-Hall nunca tivesse feito esse jogo específico.\n",
    "\n",
    "O jogo funciona da seguinte forma. O jogador é colocado diante de três portas. O anfitrião do show então lhe informa que, atrás de cada uma das portas, há uma coisa diferente: um repolho, outro repolho, ou um carro de luxo. Porém, os prêmios estão embaralhados e somente o anfitrião sabe o que há atrás de cada porta.\n",
    "\n",
    "O jogador, então, escolhe uma das portas.\n",
    "\n",
    "Antes de abri-la, o anfitrião pára o jogo para efeito dramático. Então, das portas restantes (não escolhidas pelo jogador), revela uma, que possui um repolho - o que significa que as portas ainda fechadas escondem um outro repolho e um carro de luxo. Então, o anfitrião dá a opção do jogador de trocar a sua escolha da porta.\n",
    "\n",
    "O jogador deve aceitar a oferta e mudar de porta? Por que?"
   ]
  },
  {
   "cell_type": "code",
   "execution_count": null,
   "metadata": {},
   "outputs": [
    {
     "name": "stdout",
     "output_type": "stream",
     "text": [
      "['REPOLHO' 'CARRO' 'REPOLHO']\n"
     ]
    }
   ],
   "source": [
    "portas = np.array(['REPOLHO', 'REPOLHO', 'CARRO'])\n",
    "np.random.shuffle(portas)\n",
    "print(portas)"
   ]
  },
  {
   "cell_type": "markdown",
   "metadata": {},
   "source": [
    "# Atividade: Simulando os combates do War\n",
    "*Objetivo: analisar um estudo feito usando simulação*\n",
    "\n",
    "Uma habilidade importante na ciência de dados é a de conectar conceitos matemáticos com suas simulações computacionais, e ambos (matemática e simulações) a elementos do mundo real. O texto abaixo possui uma análise das chances de vitória no jogo \"War\" (um jogo de tabuleiro da Grow). Leia atentamente o texto e decida:\n",
    "1. Você encontra alguma desconexão entre o texto, o modelo matemático e as simulações computacionais? Qual ou quais?\n",
    "2. O fluxo de raciocínio está claro e correto? Faltam informações? Sobram informações?\n",
    "3. Você concorda com as conclusões? Por que?\n",
    "\n",
    "---\n",
    "\n",
    "Um famoso jogo de tabuleiro chamado War tem uma dinâmica na qual territórios devem invadir outros territórios, formando uma estratégia para conquistar continentes, eliminar adversários ou simplesmente expandir suas fronteiras. A dinâmica de *combate* do War é bastante interessante. Cada território (o atacante, $A$, e o defensor, $D$) tem um certo número de exércitos. Daí, cada jogador (controlador dos territórios) joga um dado para cada exército em seu território, até um máximo de três. No caso específico do atacante, um dos exércitos não pode participar do ataque porque é um exército \"de ocupação\". Os dados são ordenados do maior para o menor, e então pareados. Para cada dado pareado, o território que tirou menor valor perde um exército (em caso de empate, defesa ganha). O ataque deve parar se o território defesor fica sem exércitos, ou se o atacante fica com apenas um exército, e o atacante pode decidir encerrar o ataque.\n",
    "\n",
    "Uma pergunta que sempre me facinou: quantos exércitos eu devo ter para poder atacar com quase certeza de vencer?\n",
    "\n",
    "Uma pergunta parecida é a seguinte: a cada rodada (jogada de dados), ataque e defesa perdem exércitos. Em média, quantos exércitos ataque e defesa, cada um, perdem quando jogamos?\n",
    "\n",
    "Antes de começar essa pergunta grande, vamos calcular qual é a média e desvio padrão da perda de exércitos por jogada!"
   ]
  },
  {
   "cell_type": "code",
   "execution_count": null,
   "metadata": {},
   "outputs": [],
   "source": [
    "def simular_rodada(n_ataque, n_defesa):\n",
    "    # Recebe: numero de exercitos no ataque e na defesa\n",
    "    # Retorna: (a,d), que são os números de exércitos perdidos pelo ataque e pela defesa, respectivamente\n",
    "    dado = np.array([1,2,3,4,5,6])\n",
    "    dados_ataque = min(n_ataque-1, 3)\n",
    "    dados_defesa = min(n_defesa, 3)\n",
    "    jogada_ataque = sorted(np.random.choice(dado, dados_ataque), reverse=True)\n",
    "    jogada_defesa = sorted(np.random.choice(dado, dados_defesa), reverse=True)\n",
    "    #print(jogada_ataque, jogada_defesa)\n",
    "    a = 0\n",
    "    d = 0\n",
    "    for i in range(min(len(jogada_ataque), len(jogada_defesa))):\n",
    "        if jogada_defesa[i] >= jogada_ataque[i]:\n",
    "            a += 1\n",
    "        else:\n",
    "            d += 1 \n",
    "    return a, d"
   ]
  },
  {
   "cell_type": "code",
   "execution_count": null,
   "metadata": {},
   "outputs": [
    {
     "name": "stdout",
     "output_type": "stream",
     "text": [
      "1.9001 1.0695419533613442\n",
      "1.0999 1.0695419533613442\n"
     ]
    }
   ],
   "source": [
    "A = []\n",
    "D = []\n",
    "for i in range(10000):\n",
    "    a, d = simular_rodada(10,10)\n",
    "    A.append(a)\n",
    "    D.append(d)\n",
    "\n",
    "print(np.mean(A), np.std(A))\n",
    "print(np.mean(D), np.std(D))"
   ]
  },
  {
   "cell_type": "markdown",
   "metadata": {},
   "source": [
    "Veja que interessante: a perda média de exércitos para o ataque é praticamente o dobro da perda de exércitos da defesa! Mesmo assim, o desvio padrão ainda é alto, então resultados improváveis ainda são possíveis!\n",
    "\n",
    "Vamos partir para uma nova simulação: se eu atacar com $N$ exércitos um território que tem $M$ exércitos, quem vai vencer?"
   ]
  },
  {
   "cell_type": "code",
   "execution_count": null,
   "metadata": {},
   "outputs": [
    {
     "name": "stdout",
     "output_type": "stream",
     "text": [
      "ATAQUE\n"
     ]
    }
   ],
   "source": [
    "def ate_vencer(N, M):\n",
    "    M_ = M\n",
    "    N_ = N\n",
    "    while (1):\n",
    "        a, d = simular_rodada(N_, M_)\n",
    "        M_ -= d\n",
    "        N_ -= a\n",
    "        if N_ <= 2:\n",
    "            return \"DEFESA\" # defesa ganha\n",
    "        if M_ < 1:\n",
    "            return \"ATAQUE\" # ataque ganha\n",
    "    return \"ALGO DEU ERRADO\"\n",
    "\n",
    "print(ate_vencer(75,50))\n"
   ]
  },
  {
   "cell_type": "markdown",
   "metadata": {},
   "source": [
    "Claro que, para qualquer número de jogadas, ataque e defesa têm alguma chance de vencer.\n",
    "\n",
    "Mas, então, fica a pergunta: se ataque tem N exércitos e defesa tem M exércitos, qual é a probabilidade de ataque vencer?"
   ]
  },
  {
   "cell_type": "code",
   "execution_count": null,
   "metadata": {},
   "outputs": [],
   "source": [
    "def prob_vencer(N, M, tentativas):\n",
    "    vitorias = 0\n",
    "    for i in range(tentativas):\n",
    "        if ate_vencer(N,M) == \"ATAQUE\":\n",
    "            vitorias += 1\n",
    "    return vitorias/tentativas"
   ]
  },
  {
   "cell_type": "code",
   "execution_count": null,
   "metadata": {},
   "outputs": [
    {
     "name": "stdout",
     "output_type": "stream",
     "text": [
      "0.167\n"
     ]
    }
   ],
   "source": [
    "print(prob_vencer(5,5,1000))"
   ]
  },
  {
   "cell_type": "markdown",
   "metadata": {},
   "source": [
    "É bem interessante - e condizente com os resultados anteriores - que a probabilidade do ataque vencer quando há um número igual de exércitos em ambos os territórios é muito baixa. Bom, podemos fazer uma busca por vários valores de exércitos e então gerar uma tabela de probabilidades"
   ]
  },
  {
   "cell_type": "code",
   "execution_count": null,
   "metadata": {},
   "outputs": [
    {
     "name": "stdout",
     "output_type": "stream",
     "text": [
      "2\n",
      "3\n",
      "4\n",
      "5\n",
      "6\n",
      "7\n",
      "8\n",
      "9\n",
      "10\n",
      "11\n",
      "12\n",
      "13\n",
      "14\n",
      "15\n",
      "16\n",
      "17\n",
      "18\n",
      "19\n",
      "20\n",
      "21\n",
      "22\n",
      "23\n",
      "24\n",
      "25\n",
      "26\n",
      "27\n",
      "28\n",
      "29\n"
     ]
    }
   ],
   "source": [
    "n_max = 30\n",
    "m_max = 30\n",
    "probs = np.zeros( (n_max, m_max) )\n",
    "\n",
    "for n in range(2, n_max):\n",
    "    print(n) # Esse print() está aqui para sabermos que a simulação ainda está rodando e nada travou \n",
    "    for m in range(1, m_max):\n",
    "        probs[n,m] = prob_vencer(n, m, 100)\n",
    "\n"
   ]
  },
  {
   "cell_type": "code",
   "execution_count": null,
   "metadata": {},
   "outputs": [
    {
     "name": "stdout",
     "output_type": "stream",
     "text": [
      "[[0.0 0.0 0.0 0.0 0.0 0.0 0.0 0.0 0.0 0.0 0.0 0.0 0.0 0.0 0.0 0.0 0.0 0.0 0.0 0.0 0.0 0.0 0.0 0.0 0.0 0.0 0.0 0.0 0.0 0.0]\n",
      " [0.0 0.0 0.0 0.0 0.0 0.0 0.0 0.0 0.0 0.0 0.0 0.0 0.0 0.0 0.0 0.0 0.0 0.0 0.0 0.0 0.0 0.0 0.0 0.0 0.0 0.0 0.0 0.0 0.0 0.0]\n",
      " [0.0 0.0 0.0 0.0 0.0 0.0 0.0 0.0 0.0 0.0 0.0 0.0 0.0 0.0 0.0 0.0 0.0 0.0 0.0 0.0 0.0 0.0 0.0 0.0 0.0 0.0 0.0 0.0 0.0 0.0]\n",
      " [0.0 0.6 0.3 0.1 0.0 0.0 0.0 0.0 0.0 0.0 0.0 0.0 0.0 0.0 0.0 0.0 0.0 0.0 0.0 0.0 0.0 0.0 0.0 0.0 0.0 0.0 0.0 0.0 0.0 0.0]\n",
      " [0.0 0.9 0.6 0.2 0.2 0.1 0.1 0.0 0.0 0.0 0.0 0.0 0.0 0.0 0.0 0.0 0.0 0.0 0.0 0.0 0.0 0.0 0.0 0.0 0.0 0.0 0.0 0.0 0.0 0.0]\n",
      " [0.0 1.0 0.8 0.4 0.3 0.2 0.1 0.0 0.0 0.0 0.0 0.0 0.0 0.0 0.0 0.0 0.0 0.0 0.0 0.0 0.0 0.0 0.0 0.0 0.0 0.0 0.0 0.0 0.0 0.0]\n",
      " [0.0 1.0 0.9 0.5 0.4 0.3 0.1 0.1 0.1 0.0 0.0 0.0 0.0 0.0 0.0 0.0 0.0 0.0 0.0 0.0 0.0 0.0 0.0 0.0 0.0 0.0 0.0 0.0 0.0 0.0]\n",
      " [0.0 1.0 0.9 0.6 0.4 0.3 0.2 0.2 0.1 0.1 0.0 0.0 0.0 0.0 0.0 0.0 0.0 0.0 0.0 0.0 0.0 0.0 0.0 0.0 0.0 0.0 0.0 0.0 0.0 0.0]\n",
      " [0.0 1.0 1.0 0.7 0.5 0.4 0.2 0.2 0.1 0.1 0.0 0.0 0.0 0.0 0.0 0.0 0.0 0.0 0.0 0.0 0.0 0.0 0.0 0.0 0.0 0.0 0.0 0.0 0.0 0.0]\n",
      " [0.0 1.0 1.0 0.8 0.6 0.6 0.4 0.3 0.2 0.2 0.1 0.1 0.0 0.0 0.0 0.0 0.0 0.0 0.0 0.0 0.0 0.0 0.0 0.0 0.0 0.0 0.0 0.0 0.0 0.0]\n",
      " [0.0 1.0 1.0 0.8 0.7 0.6 0.5 0.3 0.3 0.2 0.2 0.0 0.0 0.0 0.0 0.0 0.0 0.0 0.0 0.0 0.0 0.0 0.0 0.0 0.0 0.0 0.0 0.0 0.0 0.0]\n",
      " [0.0 1.0 1.0 0.9 0.8 0.7 0.5 0.4 0.4 0.2 0.2 0.1 0.1 0.0 0.0 0.0 0.0 0.0 0.0 0.0 0.0 0.0 0.0 0.0 0.0 0.0 0.0 0.0 0.0 0.0]\n",
      " [0.0 1.0 1.0 0.9 0.8 0.8 0.6 0.5 0.3 0.3 0.2 0.1 0.1 0.1 0.0 0.0 0.0 0.0 0.0 0.0 0.0 0.0 0.0 0.0 0.0 0.0 0.0 0.0 0.0 0.0]\n",
      " [0.0 1.0 1.0 0.9 0.9 0.8 0.6 0.5 0.4 0.4 0.3 0.1 0.1 0.1 0.1 0.1 0.1 0.0 0.0 0.0 0.0 0.0 0.0 0.0 0.0 0.0 0.0 0.0 0.0 0.0]\n",
      " [0.0 1.0 1.0 0.9 0.8 0.8 0.8 0.6 0.6 0.4 0.4 0.3 0.2 0.2 0.1 0.1 0.1 0.1 0.0 0.0 0.0 0.0 0.0 0.0 0.0 0.0 0.0 0.0 0.0 0.0]\n",
      " [0.0 1.0 1.0 1.0 0.9 0.8 0.8 0.7 0.5 0.4 0.4 0.3 0.3 0.2 0.1 0.1 0.1 0.1 0.1 0.1 0.0 0.0 0.0 0.0 0.0 0.0 0.0 0.0 0.0 0.0]\n",
      " [0.0 1.0 1.0 0.9 1.0 0.8 0.8 0.7 0.6 0.5 0.4 0.3 0.3 0.2 0.2 0.1 0.1 0.1 0.0 0.0 0.0 0.0 0.0 0.0 0.0 0.0 0.0 0.0 0.0 0.0]\n",
      " [0.0 1.0 1.0 1.0 1.0 0.9 0.8 0.8 0.6 0.6 0.5 0.4 0.4 0.3 0.2 0.2 0.1 0.1 0.0 0.0 0.0 0.0 0.0 0.0 0.0 0.0 0.0 0.0 0.0 0.0]\n",
      " [0.0 1.0 1.0 1.0 1.0 0.9 0.8 0.8 0.7 0.6 0.6 0.5 0.3 0.3 0.3 0.2 0.1 0.1 0.0 0.1 0.1 0.1 0.1 0.0 0.0 0.0 0.0 0.0 0.0 0.0]\n",
      " [0.0 1.0 1.0 1.0 1.0 0.9 0.9 0.8 0.7 0.7 0.6 0.4 0.4 0.3 0.3 0.3 0.1 0.1 0.1 0.1 0.1 0.0 0.1 0.0 0.0 0.0 0.0 0.0 0.0 0.0]\n",
      " [0.0 1.0 1.0 1.0 1.0 0.9 0.9 0.8 0.8 0.7 0.6 0.6 0.5 0.3 0.3 0.2 0.3 0.2 0.1 0.1 0.1 0.1 0.0 0.1 0.0 0.0 0.0 0.0 0.0 0.0]\n",
      " [0.0 1.0 1.0 1.0 1.0 0.9 0.9 0.9 0.8 0.6 0.7 0.6 0.6 0.5 0.3 0.3 0.2 0.2 0.2 0.1 0.1 0.1 0.0 0.1 0.1 0.0 0.0 0.0 0.0 0.0]\n",
      " [0.0 1.0 1.0 1.0 1.0 1.0 0.9 0.9 0.7 0.8 0.7 0.6 0.7 0.5 0.3 0.3 0.3 0.2 0.2 0.1 0.1 0.1 0.1 0.0 0.0 0.0 0.0 0.0 0.0 0.0]\n",
      " [0.0 1.0 1.0 1.0 1.0 1.0 0.9 0.9 0.8 0.8 0.8 0.6 0.6 0.5 0.5 0.3 0.4 0.2 0.3 0.2 0.2 0.1 0.1 0.1 0.1 0.1 0.1 0.0 0.0 0.0]\n",
      " [0.0 1.0 1.0 1.0 1.0 1.0 0.9 0.9 0.8 0.8 0.8 0.7 0.8 0.6 0.4 0.4 0.4 0.2 0.2 0.2 0.1 0.1 0.1 0.1 0.1 0.1 0.1 0.0 0.0 0.0]\n",
      " [0.0 1.0 1.0 1.0 1.0 0.9 1.0 0.9 0.9 0.9 0.8 0.7 0.7 0.6 0.5 0.5 0.4 0.3 0.3 0.2 0.2 0.1 0.2 0.1 0.0 0.1 0.0 0.1 0.1 0.0]\n",
      " [0.0 1.0 1.0 1.0 1.0 1.0 1.0 0.9 0.9 0.9 0.8 0.8 0.7 0.6 0.6 0.6 0.5 0.3 0.3 0.3 0.1 0.2 0.2 0.1 0.1 0.1 0.0 0.1 0.1 0.0]\n",
      " [0.0 1.0 1.0 1.0 1.0 1.0 1.0 1.0 0.9 0.9 0.9 0.9 0.7 0.7 0.6 0.6 0.6 0.5 0.4 0.3 0.2 0.3 0.1 0.2 0.2 0.1 0.1 0.1 0.0 0.1]\n",
      " [0.0 1.0 1.0 1.0 1.0 1.0 1.0 0.9 0.9 0.9 0.9 0.9 0.8 0.8 0.8 0.6 0.6 0.3 0.4 0.3 0.3 0.2 0.3 0.1 0.1 0.1 0.1 0.1 0.0 0.1]\n",
      " [0.0 1.0 1.0 1.0 1.0 1.0 1.0 1.0 0.9 0.9 0.9 0.8 0.8 0.7 0.7 0.6 0.5 0.5 0.3 0.3 0.2 0.2 0.3 0.2 0.1 0.1 0.1 0.0 0.1 0.0]]\n"
     ]
    }
   ],
   "source": [
    "with np.printoptions(precision=2, suppress=True, formatter={'float': '{:0.1f}'.format}, linewidth=200):\n",
    "    print(probs)"
   ]
  },
  {
   "cell_type": "markdown",
   "metadata": {},
   "source": [
    "E, agora, podemos encontrar uma regra que parece valer para esses números razoáveis de exércitos: devemos ter pelo menos três vezes o número de exércitos da defesa para ter um ataque com por volta de 90% de chance de sucesso.\n",
    "\n",
    "No lado da defesa, se mantivermos as fronteiras com um número bem grande de exércitos, raramente vamos ser pegos desprevenidos."
   ]
  },
  {
   "cell_type": "markdown",
   "metadata": {},
   "source": []
  }
 ],
 "metadata": {
  "interpreter": {
   "hash": "48a163085726af4aa892ebfc5efd6be8ee4b935d9ea37781e4f79f4457b77d39"
  },
  "kernelspec": {
   "display_name": "Python 3.7.12 ('base')",
   "language": "python",
   "name": "python3"
  },
  "language_info": {
   "name": "python",
   "version": "3.7.12"
  },
  "orig_nbformat": 4
 },
 "nbformat": 4,
 "nbformat_minor": 2
}
