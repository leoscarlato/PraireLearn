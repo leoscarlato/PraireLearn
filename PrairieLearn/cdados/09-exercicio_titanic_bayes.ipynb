{
 "cells": [
  {
   "cell_type": "markdown",
   "metadata": {},
   "source": [
    "# Exercício: Titanic - Tomando decisão com Teorema de Bayes\n",
    "**Objetivo:** Ao fim desta aula, o aluno será capaz de usar o Teorema de Bayes para construir um classificador automático"
   ]
  },
  {
   "cell_type": "markdown",
   "metadata": {},
   "source": [
    "<div id=\"indice\"></div>\n",
    "\n",
    "## Índice\n",
    "\n",
    "- [Titanic](#titanic)\n",
    "- [Objetivo](#obj)\n",
    "- [Classificador sem considerar qualquer característica do passageiro](#apriori)\n",
    "- [Classificador Naive-Bayes com a variável `Sex`](#naivebayes)\n",
    "- [Classificando os passageiros](#class)\n",
    "- [Análise de sentimento](#sentimento)\n",
    "- [Para casa: Estudo Complementar](#casa)\n",
    "- [Classificador Naive-Bayes com a variável `Pclass`](#classPclass)\n",
    "- [Separando conjunto de dados em Treinamento (train)  e Teste (test)](#testtrain)\n",
    "___"
   ]
  },
  {
   "cell_type": "markdown",
   "metadata": {},
   "source": [
    "<div id=\"titanic\"></div>\n",
    "\n",
    "## Titanic\n",
    "\n",
    "Entre as muitas competições disponíveis na plataforma Kaggle, encontra-se a de *Machine Learning* do Titanic conforme apresentado neste [link](https://www.kaggle.com/c/titanic/data).\n",
    "\n",
    "A base de dados apresentada no arquivo `titanic.xlsx` contém informação de 891 passageiros para os quais foram mensurados as seguintes informações (as categorias serão mantidas em inglês assim como os nomes das variáveis):\n",
    " \n",
    " * `Survived`: indica se passageiro sobreviveu ou não.\n",
    "    - 0 = No,\n",
    "    - 1 = Yes.\n",
    " * `Pclass`: indica a classe da passagem (*ticket*).\n",
    "    - 1 = 1st, \n",
    "    - 2 = 2nd, \n",
    "    - 3 = 3rd.\n",
    " * `Sex`: sexo do passageiro. \n",
    "    - female,\n",
    "    - male.\n",
    " * `Age`: idade em anos.\n",
    " * `Sibsp`: número de irmãos e/ou cônjuges a bordo do Titanic.\n",
    " * `Parch`: número de pais e/ou filhos a bordo do Titanic.\n",
    " * `Ticket`: número do *ticket*.\n",
    " * `Fare`: tarifa do passageiro.\n",
    " * `Cabin`: número da cabine.\n",
    " * `Embarked`: portão de embarque.\n",
    "    - C = Cherbourg, \n",
    "    - Q = Queenstown, \n",
    "    - S = Southampton.\n",
    "\n",
    "\n",
    "**Notas:**\n",
    "A variável `Pclass` pode ser considerada uma *proxy* da situação socioeconômico do passageiro, ou seja, \n",
    "1st = Upper, 2nd = Middle,  3rd = Lower.\n"
   ]
  },
  {
   "cell_type": "markdown",
   "metadata": {},
   "source": [
    "___\n",
    "\n",
    "<div id=\"obj\"></div>\n",
    "\n",
    "## Objetivo\n",
    "\n",
    "Imagine que você com as suas características estivesse no Titanic no dia no naufrágio. Será que você teria sido um sobrevivente ou não??\n",
    "\n",
    "Assim, o objetivo dessa atividade é classificar um \"novo\" passageiro do Titanic como Sobrevivente ou não Sobrevivente levando em considerando (ou seja, aprendendo) o perfil dos sobreviventes e não sobreviventes que de fato estavam no Titanic."
   ]
  },
  {
   "cell_type": "markdown",
   "metadata": {},
   "source": [
    "___\n",
    "Carregando algumas bibliotecas:"
   ]
  },
  {
   "cell_type": "code",
   "execution_count": 1,
   "metadata": {},
   "outputs": [],
   "source": [
    "%matplotlib inline\n",
    "import pandas as pd\n",
    "import matplotlib.pyplot as plt\n",
    "import numpy as np\n",
    "import os"
   ]
  },
  {
   "cell_type": "code",
   "execution_count": 2,
   "metadata": {
    "scrolled": false
   },
   "outputs": [
    {
     "name": "stdout",
     "output_type": "stream",
     "text": [
      "Esperamos trabalhar no diretório\n",
      "c:\\Users\\tiago\\Development\\analise_exploratoria\n"
     ]
    }
   ],
   "source": [
    "print('Esperamos trabalhar no diretório')\n",
    "print(os.getcwd())"
   ]
  },
  {
   "cell_type": "markdown",
   "metadata": {},
   "source": [
    "# Exercício 1\n",
    "*Objetivo: analisar e entender o significado de dados*\n",
    "\n",
    "O código abaixo carrega e mostra algumas características dos dados de passageiros do Titanic.\n",
    "\n",
    "1. Na tabela, o que cada linha representa?\n",
    "2. Quantos passageiros eram da primeira classe? Quantos eram da segunda classe? E quantos eram da terceira?"
   ]
  },
  {
   "cell_type": "code",
   "execution_count": 8,
   "metadata": {},
   "outputs": [],
   "source": [
    "dados = pd.read_excel('dados/UCLA/titanic.xlsx')"
   ]
  },
  {
   "cell_type": "code",
   "execution_count": 16,
   "metadata": {},
   "outputs": [
    {
     "name": "stdout",
     "output_type": "stream",
     "text": [
      "(891, 12)\n",
      "891\n"
     ]
    }
   ],
   "source": [
    "print(dados.shape)\n",
    "print(len(dados))"
   ]
  },
  {
   "cell_type": "code",
   "execution_count": 10,
   "metadata": {},
   "outputs": [
    {
     "data": {
      "text/html": [
       "<div>\n",
       "<style scoped>\n",
       "    .dataframe tbody tr th:only-of-type {\n",
       "        vertical-align: middle;\n",
       "    }\n",
       "\n",
       "    .dataframe tbody tr th {\n",
       "        vertical-align: top;\n",
       "    }\n",
       "\n",
       "    .dataframe thead th {\n",
       "        text-align: right;\n",
       "    }\n",
       "</style>\n",
       "<table border=\"1\" class=\"dataframe\">\n",
       "  <thead>\n",
       "    <tr style=\"text-align: right;\">\n",
       "      <th></th>\n",
       "      <th>PassengerId</th>\n",
       "      <th>Survived</th>\n",
       "      <th>Pclass</th>\n",
       "      <th>Name</th>\n",
       "      <th>Sex</th>\n",
       "      <th>Age</th>\n",
       "      <th>SibSp</th>\n",
       "      <th>Parch</th>\n",
       "      <th>Ticket</th>\n",
       "      <th>Fare</th>\n",
       "      <th>Cabin</th>\n",
       "      <th>Embarked</th>\n",
       "    </tr>\n",
       "  </thead>\n",
       "  <tbody>\n",
       "    <tr>\n",
       "      <th>0</th>\n",
       "      <td>1</td>\n",
       "      <td>0</td>\n",
       "      <td>3</td>\n",
       "      <td>Braund, Mr. Owen Harris</td>\n",
       "      <td>male</td>\n",
       "      <td>22.0</td>\n",
       "      <td>1</td>\n",
       "      <td>0</td>\n",
       "      <td>A/5 21171</td>\n",
       "      <td>7.2500</td>\n",
       "      <td>NaN</td>\n",
       "      <td>S</td>\n",
       "    </tr>\n",
       "    <tr>\n",
       "      <th>1</th>\n",
       "      <td>2</td>\n",
       "      <td>1</td>\n",
       "      <td>1</td>\n",
       "      <td>Cumings, Mrs. John Bradley (Florence Briggs Th...</td>\n",
       "      <td>female</td>\n",
       "      <td>38.0</td>\n",
       "      <td>1</td>\n",
       "      <td>0</td>\n",
       "      <td>PC 17599</td>\n",
       "      <td>71.2833</td>\n",
       "      <td>C85</td>\n",
       "      <td>C</td>\n",
       "    </tr>\n",
       "    <tr>\n",
       "      <th>2</th>\n",
       "      <td>3</td>\n",
       "      <td>1</td>\n",
       "      <td>3</td>\n",
       "      <td>Heikkinen, Miss. Laina</td>\n",
       "      <td>female</td>\n",
       "      <td>26.0</td>\n",
       "      <td>0</td>\n",
       "      <td>0</td>\n",
       "      <td>STON/O2. 3101282</td>\n",
       "      <td>7.9250</td>\n",
       "      <td>NaN</td>\n",
       "      <td>S</td>\n",
       "    </tr>\n",
       "    <tr>\n",
       "      <th>3</th>\n",
       "      <td>4</td>\n",
       "      <td>1</td>\n",
       "      <td>1</td>\n",
       "      <td>Futrelle, Mrs. Jacques Heath (Lily May Peel)</td>\n",
       "      <td>female</td>\n",
       "      <td>35.0</td>\n",
       "      <td>1</td>\n",
       "      <td>0</td>\n",
       "      <td>113803</td>\n",
       "      <td>53.1000</td>\n",
       "      <td>C123</td>\n",
       "      <td>S</td>\n",
       "    </tr>\n",
       "    <tr>\n",
       "      <th>4</th>\n",
       "      <td>5</td>\n",
       "      <td>0</td>\n",
       "      <td>3</td>\n",
       "      <td>Allen, Mr. William Henry</td>\n",
       "      <td>male</td>\n",
       "      <td>35.0</td>\n",
       "      <td>0</td>\n",
       "      <td>0</td>\n",
       "      <td>373450</td>\n",
       "      <td>8.0500</td>\n",
       "      <td>NaN</td>\n",
       "      <td>S</td>\n",
       "    </tr>\n",
       "  </tbody>\n",
       "</table>\n",
       "</div>"
      ],
      "text/plain": [
       "   PassengerId  Survived  Pclass  \\\n",
       "0            1         0       3   \n",
       "1            2         1       1   \n",
       "2            3         1       3   \n",
       "3            4         1       1   \n",
       "4            5         0       3   \n",
       "\n",
       "                                                Name     Sex   Age  SibSp  \\\n",
       "0                            Braund, Mr. Owen Harris    male  22.0      1   \n",
       "1  Cumings, Mrs. John Bradley (Florence Briggs Th...  female  38.0      1   \n",
       "2                             Heikkinen, Miss. Laina  female  26.0      0   \n",
       "3       Futrelle, Mrs. Jacques Heath (Lily May Peel)  female  35.0      1   \n",
       "4                           Allen, Mr. William Henry    male  35.0      0   \n",
       "\n",
       "   Parch            Ticket     Fare Cabin Embarked  \n",
       "0      0         A/5 21171   7.2500   NaN        S  \n",
       "1      0          PC 17599  71.2833   C85        C  \n",
       "2      0  STON/O2. 3101282   7.9250   NaN        S  \n",
       "3      0            113803  53.1000  C123        S  \n",
       "4      0            373450   8.0500   NaN        S  "
      ]
     },
     "execution_count": 10,
     "metadata": {},
     "output_type": "execute_result"
    }
   ],
   "source": [
    "dados.head()"
   ]
  },
  {
   "cell_type": "code",
   "execution_count": 11,
   "metadata": {},
   "outputs": [
    {
     "name": "stdout",
     "output_type": "stream",
     "text": [
      "<class 'pandas.core.frame.DataFrame'>\n",
      "RangeIndex: 891 entries, 0 to 890\n",
      "Data columns (total 12 columns):\n",
      " #   Column       Non-Null Count  Dtype  \n",
      "---  ------       --------------  -----  \n",
      " 0   PassengerId  891 non-null    int64  \n",
      " 1   Survived     891 non-null    int64  \n",
      " 2   Pclass       891 non-null    int64  \n",
      " 3   Name         891 non-null    object \n",
      " 4   Sex          891 non-null    object \n",
      " 5   Age          714 non-null    float64\n",
      " 6   SibSp        891 non-null    int64  \n",
      " 7   Parch        891 non-null    int64  \n",
      " 8   Ticket       891 non-null    object \n",
      " 9   Fare         891 non-null    float64\n",
      " 10  Cabin        204 non-null    object \n",
      " 11  Embarked     889 non-null    object \n",
      "dtypes: float64(2), int64(5), object(5)\n",
      "memory usage: 83.7+ KB\n"
     ]
    }
   ],
   "source": [
    "dados.info()"
   ]
  },
  {
   "cell_type": "markdown",
   "metadata": {},
   "source": [
    "# Exercício 2\n",
    "*Objetivo: calcular probabilidades a priori de sobrevivência*\n",
    "\n",
    "Lembrando que uma probabilidade é o número de resultados favoráveis dividido pelo número de resultados possíveis ($P(x) = \\frac{\\text{\\# resultados favoráveis}}{\\text{\\# total de experimentos}}$), calcule a probabilidade de, ao escolhermos um passageiro aleatório do Titanic, este ter sobrevivido, ou: $P(S)$."
   ]
  },
  {
   "cell_type": "code",
   "execution_count": 15,
   "metadata": {},
   "outputs": [],
   "source": [
    "# Faça sua resposta aqui"
   ]
  },
  {
   "cell_type": "markdown",
   "metadata": {},
   "source": [
    "# Exercício 3\n",
    "*Objetivo: tomar uma decisão com base em uma probabilidade a priori*\n",
    "\n",
    "Com base na probabilidade que você calculou no exercício anterior, seria mais seguro assumir que um passageiro escolhido aleatoriamente seria um sobrevivente que este passageiro seria um não-sobrevivente?\n"
   ]
  },
  {
   "cell_type": "markdown",
   "metadata": {},
   "source": [
    "# Exercício 4\n",
    "*Objetivo: calcular uma probabilidade a posteriori*\n",
    "\n",
    "Uma das frases famosas rem relação ao Titanic foi \"mulheres e crianças primeiro\".\n",
    "\n",
    "Calcule a probabilidade de, se escolhermos aleatoriamente uma passageira mulher, esta ter sobrevivido ao acidente, ou: $P(S | M)$. Aconteceu, de fato, um \"mulheres e crianças primeiro\"?\n"
   ]
  },
  {
   "cell_type": "code",
   "execution_count": 46,
   "metadata": {},
   "outputs": [
    {
     "data": {
      "text/plain": [
       "0.7217741935483871"
      ]
     },
     "execution_count": 46,
     "metadata": {},
     "output_type": "execute_result"
    }
   ],
   "source": [
    "# Faça sua resposta aqui\n",
    "filtro_fem = df['Sex'] == 'female'\n",
    "df_ = df[filtro_fem]\n",
    "filtro_survived = df_['Survived'] == 1\n",
    "df_fs = df_[filtro_survived]\n",
    "len(df_fs)/len(df_)"
   ]
  },
  {
   "cell_type": "markdown",
   "metadata": {},
   "source": [
    "# Exercício 5\n",
    "*Objetivo: verificar o Teorema de Bayes*\n",
    "\n",
    "Um importante resultado da estatística é o Teorema de Bayes, que permite inverter uma condicional:\n",
    "\n",
    "$$\n",
    "P(A|B) = \\frac{P(B|A)P(A)}{P(B)}\n",
    "$$\n",
    "\n",
    "No nosso problema, calculamos $P(\\text{sobreviver} | \\text{mulher})$. Vamos usar esses dados para verificar o Teorema de Bayes.\n",
    "\n",
    "1. Calcule $P(\\text{sobreviver})$ à partir dos dados\n",
    "2. Calcule $P(\\text{mulher})$ à partir dos dados\n",
    "3. Usando o Teorema de Bayes, use as probabilidades que você já estimou para calcular $P(\\text{mulher} | \\text{sobreviver})$.\n",
    "4. Use os dados para confirmar o resultado que você encontrou no ítem 3.\n",
    "5. Faça o mesmo experimento para o caso dos passageiros homens."
   ]
  },
  {
   "cell_type": "code",
   "execution_count": 47,
   "metadata": {},
   "outputs": [],
   "source": [
    "# Resolva o exercício aqui"
   ]
  },
  {
   "cell_type": "markdown",
   "metadata": {},
   "source": [
    "# Exercício 6\n",
    "*Objetivo: dividir o conjunto de dados entre \"treino\" e \"teste\"*\n",
    "\n",
    "Em um processo de classificação automática, o cenário usualmente é o seguinte:\n",
    "* Sabemos os dados e rótulos sobre um certo conjunto controlado de dados - que são exatamente os dados que temos na tabela do Titanic.\n",
    "* Não sabemos, mas desejamos predizer, os dados sobre um outro conjunto de dados: por exemplo, se entrasse um novo passageiro no Titanic, diríamos que ele sobreviveria ou não?\n",
    "\n",
    "É evidente que não podemos antever como o sistema se comporta com dados desconhecidos. Porém, podemos escolher uma pequena parcela dos nossos dados para testar nosso classificador. Nesse caso, nós conhecemos os rótulos, mas o classificador não tem acesso a eles, e usamos os rótulos \"verdadeiros\" para avaliar as respostas do classificador.\n",
    "\n",
    "1. O código abaixo divide nosso conjunto de dados entre \"treino\" e \"teste\". Nele, qual é o significado da variável `split`?\n",
    "2. Calcule $P(\\text{sobreviver} | \\text{mulher})$ para o conjunto de treino e para o conjunto de teste. Eles são iguais? São próximos? Como se comparam com o resultado que você calculou no exercício 4?"
   ]
  },
  {
   "cell_type": "code",
   "execution_count": 49,
   "metadata": {},
   "outputs": [
    {
     "name": "stdout",
     "output_type": "stream",
     "text": [
      "723 168\n"
     ]
    }
   ],
   "source": [
    "split = 0.8\n",
    "divisao = np.random.random(len(dados))\n",
    "filtro_treino = divisao < split\n",
    "filtro_teste = divisao >= split\n",
    "df_treino = dados[filtro_treino]\n",
    "df_teste = dados[filtro_teste]\n",
    "print(len(df_treino), len(df_teste))"
   ]
  },
  {
   "cell_type": "code",
   "execution_count": 50,
   "metadata": {},
   "outputs": [],
   "source": [
    "# Resolva o exercício aqui"
   ]
  },
  {
   "cell_type": "markdown",
   "metadata": {},
   "source": [
    "# Exercício 7\n",
    "*Objetivo: construir um classificador Bayesiano*\n",
    "\n",
    "Usando apenas o conjunto de *treino*, estime:\n",
    "1. $P(\\text{sobreviver} | \\text{mulher})$\n",
    "2. $P(\\text{não sobreviver} | \\text{mulher})$\n",
    "3. $P(\\text{sobreviver} | \\text{homem})$\n",
    "4. $P(\\text{não sobreviver} | \\text{mulher})$."
   ]
  },
  {
   "cell_type": "code",
   "execution_count": 51,
   "metadata": {},
   "outputs": [],
   "source": [
    "# Resolva o exercício aqui"
   ]
  },
  {
   "cell_type": "markdown",
   "metadata": {},
   "source": [
    "# Exercício 8\n",
    "*Objetivo: avaliar o classificador Bayesiano*\n",
    "\n",
    "Vamos usar nosso classificador para determinar se passageiros do conjunto de teste sobreviveram ou não, e depois vamos comparar nosso resultado\n",
    "\n",
    "1. Usando as probabilidades que você estimou no exercício anterior, faça uma função (que será nosso classificador) que recebe como parâmetro o sexo do passageiro (homem ou mulher) e retorna 1 caso seja mais provável que ele sobreviva, e 0 caso seja mais provável que ele não sobreviva.\n",
    "2. Execute sua função para cada passageiro do conjunto de *teste*. Para quantos passageiros a predição do classificador corresponde à informação real? Qual é a acurácia (probabilidade de acerto) de nosso classificador?"
   ]
  },
  {
   "cell_type": "code",
   "execution_count": 52,
   "metadata": {},
   "outputs": [],
   "source": [
    "# Resolva o exercício aqui"
   ]
  },
  {
   "cell_type": "markdown",
   "metadata": {},
   "source": [
    "# Exercício 9\n",
    "*Objetivo: desenvolver e avaliar um classificador Bayesiano*\n",
    "\n",
    "Embora falemos muito sobre \"mulheres e crianças primeiro\", nos depoimentos e nos filmes sobre o Titanic também vemos relatos sobre como passageiros de primeira classe foram deliberadamente escolhidos para entrar nos botes salva-vidas. Outras pessoas, porém, dizem que isso é somente uma história interessante para dar emoção aos filmes de Hollywood.\n",
    "\n",
    "Replique o experimento que fizemos até o momento, mas usando a classe da passagem, ao invés do sexo, como entrada para o preditor."
   ]
  },
  {
   "cell_type": "code",
   "execution_count": 53,
   "metadata": {},
   "outputs": [],
   "source": [
    "# Resolva o exercício aqui"
   ]
  },
  {
   "cell_type": "markdown",
   "metadata": {},
   "source": [
    "___\n",
    "**Definindo as variáveis qualitativas como categóricas:**\n",
    "\n",
    "O pandas não tem como saber quais variáveis são qualitativas ao carregar os dados. Então precisamos modificar as colunas explicitamente.\n",
    "\n",
    "Já deixamos isso pronto para você nesta avaliação:"
   ]
  },
  {
   "cell_type": "code",
   "execution_count": null,
   "metadata": {},
   "outputs": [],
   "source": [
    "dados['Survived'] = dados['Survived'].astype('category')\n",
    "dados['Pclass'] = dados['Pclass'].astype('category')\n",
    "dados['Sex'] = dados['Sex'].astype('category')\n",
    "dados['Cabin'] = dados['Cabin'].astype('category')\n",
    "dados['Embarked'] = dados['Embarked'].astype('category')"
   ]
  },
  {
   "cell_type": "markdown",
   "metadata": {},
   "source": [
    "Agora vamos renomear os rótulos das variáveis qualitativas `Survived` e `Pclass` com comando `.cat.categories`:"
   ]
  },
  {
   "cell_type": "code",
   "execution_count": null,
   "metadata": {},
   "outputs": [],
   "source": [
    "dados.Sex.cat.categories = ['female','male']\n",
    "dados.Pclass.cat.categories = ['1st','2nd','3rd']\n",
    "dados.Survived.cat.categories = ['No', 'Yes']"
   ]
  },
  {
   "cell_type": "code",
   "execution_count": null,
   "metadata": {},
   "outputs": [],
   "source": [
    "dados.Sex = pd.Categorical(dados.Sex, categories=['female','male'], ordered=False)\n",
    "dados.Pclass = pd.Categorical(dados.Pclass, categories=['1st','2nd','3rd'], ordered=True)\n",
    "dados.Survived = pd.Categorical(dados.Survived, categories=['No', 'Yes'], ordered=False)"
   ]
  },
  {
   "cell_type": "markdown",
   "metadata": {},
   "source": [
    "___\n",
    "***DataFrame* `dados` que deve considerar nos passos a seguir:**"
   ]
  },
  {
   "cell_type": "code",
   "execution_count": null,
   "metadata": {
    "scrolled": true
   },
   "outputs": [],
   "source": [
    "dados.head(3)"
   ]
  },
  {
   "cell_type": "markdown",
   "metadata": {},
   "source": [
    "<div id=\"apriori\"></div>\n",
    "\n",
    "___\n",
    "## Classificador sem considerar qualquer característica do passageiro\n",
    "\n",
    "Como você poderia dar um \"chute\" inicial para avaliar se um novo passageiro seria ou não sobrevivente no Titanic?\n",
    "\n",
    "Podemos usar uma probabilidade conhecida como **a priori** que não leva em consideração qualquer característica do passageiro. Essa probabilidade é dada por:\n",
    "\n",
    "$$\\qquad P(sobrevivente)\\qquad \\text{e} \\qquad P(não\\hspace{1mm}sobrevivente).$$\n",
    "\n",
    "Assuma $S$ como evento ser sobrevivente e $S^c$ como evento não ser sobrevivente."
   ]
  },
  {
   "cell_type": "markdown",
   "metadata": {},
   "source": [
    "Agora, calcule essas probabilidades a partir da base de dados. Lembra que você aqui pode usar o comando `value_counts()`."
   ]
  },
  {
   "cell_type": "code",
   "execution_count": null,
   "metadata": {},
   "outputs": [],
   "source": [
    "# Tabela de frequências relativas => Probabilidades marginais\n",
    "dados.Survived.value_counts(True, sort=False).round(4)"
   ]
  },
  {
   "cell_type": "markdown",
   "metadata": {},
   "source": [
    "E aí? Se chegasse alguém agora para ser um passageiro do Titanic, esse seria classificado como sobrevivente ou não sobrevivente?\n",
    "\n",
    "E se chegassem 1.000 passageiros?"
   ]
  },
  {
   "cell_type": "code",
   "execution_count": null,
   "metadata": {},
   "outputs": [],
   "source": [
    "# Coloque sua resposta aqui"
   ]
  },
  {
   "cell_type": "markdown",
   "metadata": {},
   "source": [
    "<div id=\"naivebayes\"></div>\n",
    "\n",
    "___\n",
    "## Classificador Naive-Bayes\n",
    "\n",
    "Um Classificador Naive-Bayes permite que seja feito uma classificação, aqui, como sobrevivente ou não sobrevivente, porém levando em considerando **alguma(s) característica(s)** do passageiro. \n",
    "\n",
    "Vale ressaltar a importância de utilizar características (variáveis ou *features*) do passageiro que sejam associadas (dependentes) da variável *target* `Survived` que fornece a classificação.\n",
    "\n",
    "Vamos entender o **Teorema de Bayes** utilizando a característica do passageiro descrita na variável `Sex`. Ainda, vamos utilizar os eventos $S$ para sobrevivente, $F$ para feminino e $M$ para masculino.\n",
    "\n",
    "A probabilidade de **ser sobrevivente** dado cada categoria da variável `Sex` pode ser escrita como:\n",
    "\n",
    "$$P(S|F)=\\frac{P(S \\cap F)}{P(F)}=\\frac{P(F|S)P(S)}{P(F)}\\hspace{3cm}\\mbox{(I)}$$\n",
    "\n",
    "e\n",
    "\n",
    "$$P(S|M)=\\frac{P(S \\cap M)}{P(M)}=\\frac{P(M|S)P(S)}{P(M)}\\hspace{2.5cm}\\mbox{(II)}$$\n",
    "\n",
    "\n",
    "Por consequência, a probabilidade de **não ser sobrevivente** dado cada categoria da variável `Sex` pode ser escrita como:\n",
    "\n",
    "$$P(S^c|F)=1-P(S|F)$$\n",
    "\n",
    "e\n",
    "\n",
    "$$P(S^c|M)=1-P(S|M)$$\n"
   ]
  },
  {
   "cell_type": "markdown",
   "metadata": {},
   "source": [
    "Agora, vamos obter todas as probabilidade envolvidas do lado direito das equações $\\mbox{(I)}$ e $\\mbox{(II)}$ acima descritas utilizando os resultados amostrais."
   ]
  },
  {
   "cell_type": "markdown",
   "metadata": {},
   "source": [
    "### Probabilidades que devemos calcular a partir da base de dados:\n",
    "\n",
    "Para facilitar, vamos obter tais probabilidades nos seguintes passos:\n",
    "\n",
    " 1. Calcular as probabilides $P(S)$, $P(S^c)$, $P(F)$ e $P(M)$. Lembra que aqui você pode usar o comando `value_counts()`.\n",
    " 1. Construir um conjunto de dados apenas com os sobreviventes e um outro apenas com os não sobreviventes.\n",
    " 1. Em cada conjunto de dados, calcular a probabilidade de ser cada categoria da variável `Sex`, ou seja, \n",
    "     * Entre os sobreviventes: calcular $𝑃(F|S)$ e $𝑃(M|S)$ a partir da base de dados. Aqui pode usar o comando `value_counts()`.\n",
    "     * Entre os não sobreviventes: calcular $𝑃(F|S^c)$ e $𝑃(M|S^c)$ a partir da base de dados. Aqui pode usar o comando `value_counts()`.\n",
    "          \n",
    " 1. Com todas essas probabilidades, calcular $P(S|F)$, $P(S^c|F)$, $P(S|M)$ e $P(S^c|M)$."
   ]
  },
  {
   "cell_type": "markdown",
   "metadata": {},
   "source": [
    "Vamos lá! **Passo-a-passo**:"
   ]
  },
  {
   "cell_type": "markdown",
   "metadata": {},
   "source": [
    " 1. Calcule as probabilidades $P(S)$, $P(S^c)$, $P(F)$ e $P(M)$. Lembra que aqui você pode usar o comando `value_counts()`.\n",
    "\n",
    " OBS.: Guarde essas probabilidades nas respectivas variáveis do python `P_S`, `P_Sc`, `P_F` e `P_M`."
   ]
  },
  {
   "cell_type": "code",
   "execution_count": null,
   "metadata": {},
   "outputs": [],
   "source": [
    "# Item resolvido a seguir. Use como referência para demais itens!"
   ]
  },
  {
   "cell_type": "code",
   "execution_count": null,
   "metadata": {},
   "outputs": [],
   "source": [
    "prob_surv = dados.Survived.value_counts(True, sort=False)\n",
    "P_Sc = prob_surv[0]\n",
    "P_S = prob_surv[1]\n",
    "\n",
    "print(f'Probabilidade a priori de não sobreviver: {P_Sc:0.5g}')\n",
    "print(f'Probabilidade a priori de sobreviver: {P_S:0.5g}')"
   ]
  },
  {
   "cell_type": "code",
   "execution_count": null,
   "metadata": {},
   "outputs": [],
   "source": [
    "prob_sex = dados.Sex.value_counts(True, sort=False)\n",
    "P_F = prob_sex[0]\n",
    "P_M = prob_sex[1]\n",
    "\n",
    "print(f'Probabilidade de ser do sexo feminino: {P_F:0.5g}')\n",
    "print(f'Probabilidade de ser do sexo masculino: {P_M:0.5g}')"
   ]
  },
  {
   "cell_type": "markdown",
   "metadata": {},
   "source": [
    " 2. Construa um conjunto de dados apenas com os sobreviventes e um outro apenas com os não sobreviventes.\n",
    " \n",
    " OBS.: Guarde esses conjuntos de dados nas respectivas variáveis do python `dados_S` e `dados_Sc`."
   ]
  },
  {
   "cell_type": "code",
   "execution_count": null,
   "metadata": {},
   "outputs": [],
   "source": [
    "# Coloque seu código aqui"
   ]
  },
  {
   "cell_type": "markdown",
   "metadata": {},
   "source": [
    " 3. Entre os sobreviventes: calcule $𝑃(F|S)$ e $𝑃(M|S)$ a partir da base de dado `dados_S`. Aqui pode usar o comando `value_counts()`.\n",
    "  \n",
    " OBS.: Guarde essas probabilidades nas respectivas variáveis do python `P_F_dado_S` e `P_M_dados_S`.\n",
    " \n",
    " <br> \n",
    " \n",
    "*Respostas esperadas:*\n",
    " \n",
    "*Probabilidade de ser do sexo feminino entre os sobreviventes: 0.68129*\n",
    " \n",
    "*Probabilidade de ser do sexo masculino entre os sobreviventes: 0.31871*"
   ]
  },
  {
   "cell_type": "code",
   "execution_count": null,
   "metadata": {},
   "outputs": [],
   "source": [
    "# Coloque seu código aqui."
   ]
  },
  {
   "cell_type": "code",
   "execution_count": null,
   "metadata": {},
   "outputs": [],
   "source": []
  },
  {
   "cell_type": "markdown",
   "metadata": {},
   "source": [
    " 3. Entre os não sobreviventes: calcule $𝑃(F|S^c)$ e $𝑃(M|S^c)$ a partir da base de dados `dados_Sc`. Aqui pode usar o comando `value_counts()`.\n",
    "          \n",
    "  OBS.: Guarde essas probabilidades nas respectivas variáveis do python `P_F_dado_Sc` e `P_M_dados_Sc`.\n",
    "  \n",
    "<br> \n",
    " \n",
    "*Respostas esperadas:*\n",
    " \n",
    "*Probabilidade de ser do sexo feminino entre os não sobreviventes: 0.14754*\n",
    "\n",
    "*Probabilidade de ser do sexo masculino entre os não sobreviventes: 0.85246*"
   ]
  },
  {
   "cell_type": "code",
   "execution_count": null,
   "metadata": {},
   "outputs": [],
   "source": [
    "# Coloque seu código aqui."
   ]
  },
  {
   "cell_type": "markdown",
   "metadata": {},
   "source": [
    " 4. Com todas essas probabilidades, calcule $P(S|F)$, $P(S^c|F)$, $P(S|M)$ e $P(S^c|M)$ seguindo as equações (I) e (II).\n",
    " \n",
    " OBS.: Guarde essas probabilidades nas respectivas variáveis do python `P_S_dado_F`, `P_Sc_dado_F`, `P_S_dado_F` e `P_Sc_dado_M`.\n",
    " \n",
    "<br> \n",
    " \n",
    "*Respostas esperadas:*\n",
    " \n",
    "*Probabilidade de ser sobreviventdo se feminino: 0.74204*\n",
    "\n",
    "*Probabilidade de ser não sobrevivente se feminino: 0.25796*\n",
    "\n",
    "*Probabilidade de ser sobreviventdo se masculino: 0.18891*\n",
    "\n",
    "*Probabilidade de ser não sobrevivente se masculino: 0.81109*"
   ]
  },
  {
   "cell_type": "code",
   "execution_count": null,
   "metadata": {},
   "outputs": [],
   "source": [
    "# Coloque seu código aqui."
   ]
  },
  {
   "cell_type": "markdown",
   "metadata": {},
   "source": [
    "<div id=\"class\"></div>\n",
    "\n",
    "___\n",
    "## Classificando os passageiros \n",
    "\n",
    "Considerando seu **Classificador Naive-Bayes**, classifique cada passageiro do *DataFrame* `dados`como `No` ou `Yes` considerando apenas a variável `Sex`.\n",
    "\n",
    "Conforme apresentado na Seção Classification descrita neste [link](https://sebastianraschka.com/Articles/2014_naive_bayes_1.html), a classificação considerando a variável `Sex` dará da seguinte forma:\n",
    "\n",
    "$$\\begin{array}{lll} \n",
    "    \\mbox{Se } P(S|F)>P(S^c|F) & \\mbox{então } & \\mbox{Classificar como Sobrevivente} \\\\\n",
    "                                               & \\mbox{caso contrário } & \\mbox{Classificar como Não Sobrevivente} \n",
    "   \\end{array}$$\n",
    "\n",
    "No dataframe `dados`, guarde essas classificações em uma nova variável chamada `ClassBySex`. "
   ]
  },
  {
   "cell_type": "code",
   "execution_count": null,
   "metadata": {},
   "outputs": [],
   "source": [
    "# Classificando as mulheres\n",
    "if (P_S_dado_F > P_Sc_dado_F):\n",
    "    dados.loc[(dados.Sex=='female'),'ClassBySex'] = 'Yes'\n",
    "else:\n",
    "    dados.loc[(dados.Sex=='female'),'ClassBySex'] = 'No'\n",
    "    "
   ]
  },
  {
   "cell_type": "code",
   "execution_count": null,
   "metadata": {},
   "outputs": [],
   "source": [
    "# Classificando os homens\n",
    "if (P_S_dado_M > P_Sc_dado_M):\n",
    "    dados.loc[(dados.Sex=='male'),'ClassBySex'] = 'Yes'\n",
    "else:\n",
    "    dados.loc[(dados.Sex=='male'),'ClassBySex'] = 'No'"
   ]
  },
  {
   "cell_type": "code",
   "execution_count": null,
   "metadata": {},
   "outputs": [],
   "source": [
    "dados.head(3)"
   ]
  },
  {
   "cell_type": "markdown",
   "metadata": {},
   "source": [
    "<div id=\"sentimento\"></div>\n",
    "\n",
    "___\n",
    "## Análise de sentimento\n",
    "\n",
    "Faça uma análise de sentimento cruzando a variável `ClassBySex` com a real classificação `Survived` utilizando a função `pd.crosstab`.\n",
    "\n",
    "Analise os resultados.\n",
    "\n",
    "*Resposta esperada:*\n",
    "\n",
    " \n",
    "Survived        | ClassBySex=No  | ClassBySex=Yes\n",
    "--------------- | -------------- | --------------------\n",
    "Survived=No     |0.525253        | 0.090909\n",
    "Survived=Yes    |0.122334        | 0.261504"
   ]
  },
  {
   "cell_type": "code",
   "execution_count": null,
   "metadata": {},
   "outputs": [],
   "source": [
    "# Coloque seu código aqui"
   ]
  },
  {
   "cell_type": "code",
   "execution_count": null,
   "metadata": {},
   "outputs": [],
   "source": []
  }
 ],
 "metadata": {
  "kernelspec": {
   "display_name": "Python 3",
   "language": "python",
   "name": "python3"
  },
  "language_info": {
   "codemirror_mode": {
    "name": "ipython",
    "version": 3
   },
   "file_extension": ".py",
   "mimetype": "text/x-python",
   "name": "python",
   "nbconvert_exporter": "python",
   "pygments_lexer": "ipython3",
   "version": "3.7.12"
  }
 },
 "nbformat": 4,
 "nbformat_minor": 2
}
