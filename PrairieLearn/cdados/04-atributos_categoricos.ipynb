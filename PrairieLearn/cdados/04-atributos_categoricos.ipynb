{
 "cells": [
  {
   "cell_type": "markdown",
   "metadata": {},
   "source": [
    "# Aula 4: Atributos Categóricos\n",
    "**Objetivo da aula:** Ao fim desta aula, o aluno será capaz de operar com atributos categóricos para encontrar segmentações do dataset.\n",
    "\n",
    "* Fonte dos dados: https://www.kaggle.com/datasets/georgerocha/ifooddataadvancedanalyticstest\n"
   ]
  },
  {
   "cell_type": "markdown",
   "metadata": {},
   "source": [
    "Nesta aula, trabalharemos com dados de clientes do iFood. Esses dados foram disponibilizados pelo próprio iFood, e fazem (ou, ao menos, faziam) parte da dinâmica de contratação de pessoas para a equipe de análise de dados da empresa."
   ]
  },
  {
   "cell_type": "markdown",
   "metadata": {},
   "source": [
    "# Exercício 1\n",
    "*Objetivo: ler a base de dados e interpretar suas colunas*\n",
    "\n",
    "O código abaixo lê os dados do dataset do iFood. Após confirmar que a leitura funciona, procure no site-fonte dos dados uma explicação sobre o conteúdo de cada coluna. O que cada coluna significa?"
   ]
  },
  {
   "cell_type": "code",
   "execution_count": null,
   "metadata": {},
   "outputs": [],
   "source": [
    "import pandas as pd\n",
    "\n",
    "df = pd.read_csv('dados/iFood/ml_project1_data.csv')\n",
    "df.head()"
   ]
  },
  {
   "cell_type": "markdown",
   "metadata": {},
   "source": [
    "# Exercício 2\n",
    "*Objetivo: contar variáveis categóricas no dataset para caracterizar os seus elementos*\n",
    "\n",
    "O código abaixo mostra como contar o número de ocorrências de cada categoria em uma coluna de um `dataframe`.\n",
    "\n",
    "1. Qual é o nível educacional da maior parte dos clientes?\n",
    "1. Modifique o código para descobrir quantos clientes da base de dados são casados.\n",
    "1. Analisando a informação de estado civil dos clientes, você acredita que alguns dados podem não ser confiáveis? Caso afirmativo, remova-os do dataframe."
   ]
  },
  {
   "cell_type": "code",
   "execution_count": null,
   "metadata": {},
   "outputs": [],
   "source": [
    "edu = df.value_counts('Education')\n",
    "print(edu)"
   ]
  },
  {
   "cell_type": "markdown",
   "metadata": {},
   "source": [
    "# Exercício 3\n",
    "*Ordenar colunas categóricas para evidenciar que tratam-se de níveis de uma progressão*\n",
    "\n",
    "Embora a \"educação\" seja uma variável categórica (uma vez que não tem valores numéricos), existe uma ordenação inerente às categorias. Podemos informar ao Pandas qual é essa ordenação usando o código abaixo.\n",
    "\n",
    "1. A ordenação das categorias foi informada manualmente. Seria possível, neste caso específico, automatizar completamente o processo? Por que?\n",
    "1. Por que é necessário informar o parâmetro `sort=False` na chamada de `value_counts`?\n",
    "1. Modifique o código para passar a mostrar o estado civil (*marital status*) dos usuários. Neste caso, a ordenação ainda faz sentido?"
   ]
  },
  {
   "cell_type": "code",
   "execution_count": null,
   "metadata": {},
   "outputs": [],
   "source": [
    "df['Education'] = pd.Categorical(df['Education'], [\"Basic\", \"2n Cycle\", \"Graduation\", \"Master\", \"PhD\"])\n",
    "edu = df.value_counts('Education', sort=False)\n",
    "print(edu)"
   ]
  },
  {
   "cell_type": "markdown",
   "metadata": {},
   "source": [
    "# Exercício 4\n",
    "*Mostrar a contagem de variáveis categóricas em plots de barras*\n",
    "\n",
    "O código abaixo mostra como mostrar as contagens que calculamos em um gráfico de barras.\n",
    "\n",
    "1. \"Gráfico de barras\" é o mesmo que \"histograma\"? Por que?\n",
    "1. Modifique a chamada do gráfico para passar a mostrar as contagens de clientes de acordo com o estado civil."
   ]
  },
  {
   "cell_type": "code",
   "execution_count": null,
   "metadata": {},
   "outputs": [],
   "source": [
    "import matplotlib.pyplot as plt\n",
    "plt.style.use('default')\n",
    "#import seaborn as sns\n",
    "\n",
    "\n",
    "#sns.barplot(x=edu.index, y=edu, color='b')\n",
    "edu.plot.bar(figsize=(7,3))\n",
    "plt.ylabel('# of clients')\n",
    "plt.xlabel('Education')\n",
    "plt.show()"
   ]
  },
  {
   "cell_type": "markdown",
   "metadata": {},
   "source": [
    "# Exercício 5\n",
    "*Objetivo: fazer contagens usando duas variáveis categóricas simultaneamente*\n",
    "\n",
    "A função `crosstab` do Pandas cria uma tabela relacionando contagens de duas variáveis categóricas.\n",
    "\n",
    "1. O que significa cada elemento da tabela que foi criada?\n",
    "1. O parâmetro `normalize` pode receber os valores `False`, `True`, `index` ou `columns`. O que cada um deles significa?\n",
    "1. Um cliente típico do iFood tem que combinação de nível de educação e estado civil?"
   ]
  },
  {
   "cell_type": "code",
   "execution_count": null,
   "metadata": {},
   "outputs": [],
   "source": [
    "df_ = pd.crosstab(index=df['Education'], columns=df['Marital_Status'])\n",
    "print(df_)\n"
   ]
  },
  {
   "cell_type": "markdown",
   "metadata": {},
   "source": [
    "# Exercício 6\n",
    "*Objetivo: analisar duas propostas de gráficos de barras para mostrar dados*\n",
    "\n",
    "No código abaixo, temos duas propostas de códigos de barras: um com barras lado-a-lado e outro com barras empilhadas.\n",
    "\n",
    "1. As cores das barras, suas larguras e suas cores estão permitindo uma boa visualização dos dados? Consulte a documentação e modifique os parâmetros que achar necessário.\n",
    "1. Que informações podemos ver no gráfico lado-a-lado que é mais difícil visualizar no gráfico de barras empilhadas?\n",
    "1. Que informações podemos ver no gráfico empilhado que é mais difícil visualizar no gráfico de barras lado-a-lado?"
   ]
  },
  {
   "cell_type": "code",
   "execution_count": null,
   "metadata": {},
   "outputs": [],
   "source": [
    "df_.plot.bar(stacked=False, figsize=(7,3))\n",
    "plt.ylabel('# of clients')\n",
    "plt.xlabel('Education')\n",
    "plt.show()\n",
    "\n",
    "\n",
    "df_.plot.bar(stacked=True, figsize=(7,3))\n",
    "plt.ylabel('# of clients')\n",
    "plt.xlabel('Education')\n",
    "plt.show()"
   ]
  },
  {
   "cell_type": "markdown",
   "metadata": {},
   "source": [
    "# Exercício 7\n",
    "*Objetivo: ler e entender documentação do Pandas. Transpor um dataframe e visualizar os resultados*\n",
    "\n",
    "O método `transpose()` inverte as linhas e colunas de um dataframe. Consulte a documentação do método e use-o para mostrar um gráfico de barras que evidencie os níveis educacionais de clientes casados, solteiros e divorciados."
   ]
  },
  {
   "cell_type": "code",
   "execution_count": null,
   "metadata": {},
   "outputs": [],
   "source": [
    "# Espaço para resolver o exercício 7"
   ]
  },
  {
   "cell_type": "markdown",
   "metadata": {},
   "source": [
    "# Exercício 8\n",
    "*Objetivo: relacionar variáveis categóricas a variáveis contínuas*\n",
    "\n",
    "\n",
    "\n",
    "# Exercício 8\n",
    "*Objetivo: mostrar, em uma figura, semelhanças e diferenças entre séries temporais*\n",
    "\n",
    "Faz parte do senso comum pensar que, quanto maior o nível educacional de uma pessoa, maior será sua renda.\n",
    "\n",
    "1. Faça uma figura que responda à pergunta: \"na base de clientes do iFood, pessoas de nível educacional maior têm a renda maior?\"\n",
    "1. Usando as técnicas que aprendemos hoje, faça uma figura que evidencie a resposta à sua pergunta.\n",
    "2. Não esqueça de rotular eixos e colocar título na figura! No título, tanto a pergunta quanto a resposta devem ficar evidentes.\n",
    "3. Submeta sua figura no Blackboard.\n"
   ]
  },
  {
   "cell_type": "code",
   "execution_count": null,
   "metadata": {},
   "outputs": [],
   "source": [
    "# Espaço para resolver o exercício 8"
   ]
  }
 ],
 "metadata": {
  "interpreter": {
   "hash": "b3ba2566441a7c06988d0923437866b63cedc61552a5af99d1f4fb67d367b25f"
  },
  "kernelspec": {
   "display_name": "Python 3.9.7 ('base')",
   "language": "python",
   "name": "python3"
  },
  "language_info": {
   "codemirror_mode": {
    "name": "ipython",
    "version": 3
   },
   "file_extension": ".py",
   "mimetype": "text/x-python",
   "name": "python",
   "nbconvert_exporter": "python",
   "pygments_lexer": "ipython3",
   "version": "3.9.7"
  },
  "orig_nbformat": 4
 },
 "nbformat": 4,
 "nbformat_minor": 2
}
