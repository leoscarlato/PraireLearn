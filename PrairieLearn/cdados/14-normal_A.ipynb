{
 "cells": [
  {
   "cell_type": "markdown",
   "metadata": {},
   "source": [
    "___\n",
    "# Exemplo: Distribuição Normal\n",
    "___\n",
    "## Aula 16\n",
    "**Objetivo: usar a distribuição normal para calcular probabilidades cumulativas e condicionais em problemas-exemplo**\n",
    "\n",
    "\n",
    "## Lista de comandos:"
   ]
  },
  {
   "cell_type": "markdown",
   "metadata": {},
   "source": [
    "### Distribuição Normal\n",
    "\n",
    "Comandos quando $X\\sim N(\\mu, \\sigma^2)$ a partir da biblioteca `from scipy import stats`:\n",
    "\n",
    "* $f(x)$: `stats.norm.pdf(x, loc=mu, scale=sigma)`\n",
    "\n",
    "* $P(X\\leq x)$: `stats.norm.cdf(x, loc=mu, scale=sigma)`\n",
    "\n",
    "* $x$ tal que $p=P(X\\leq x)$: `stats.norm.ppf(p, loc=mu, scale=sigma)`\n",
    "\n",
    "* $E(X)$: `stats.norm.mean(loc=mu, scale=sigma)`\n",
    "\n",
    "* $Var(X)$: `stats.norm.var(loc=mu, scale=sigma)`\n",
    "\n",
    "* $DP(X)$: `stats.norm.std(loc=mu, scale=sigma)`\n",
    "\n",
    "\n",
    "Link: https://docs.scipy.org/doc/scipy/reference/generated/scipy.stats.norm.html"
   ]
  },
  {
   "cell_type": "code",
   "execution_count": 34,
   "metadata": {},
   "outputs": [],
   "source": [
    "from scipy import stats"
   ]
  },
  {
   "cell_type": "markdown",
   "metadata": {},
   "source": [
    "___\n",
    "\n",
    "# Exercício 1\n",
    "*Objetivo: usar um modelo de distribuição normal para calcular probabililidades cumulativas e relacionar a distribuição normal à normal padrão (Z)*\n",
    "\n",
    "Assuma que a variável de interesse $X$ represente notas de alunos, cuja média vale 5 e o desvio padrão, 1,5. Ainda, considere que essa variável seja modelada por uma normal. Ou seja, $X\\sim N(5; 1,5^2)$. \n",
    "\n",
    "**Responda:**"
   ]
  },
  {
   "cell_type": "markdown",
   "metadata": {},
   "source": [
    "### Item a\n",
    "*Objetivo: calcular probabilidades cumulativas com a normal* \n",
    "\n",
    "Qual a probabilidade de encontrar um aluno com nota abaixo de 6,5?\n",
    "\n",
    "*Resposta esperada: 0.8413447460685429*"
   ]
  },
  {
   "cell_type": "code",
   "execution_count": 35,
   "metadata": {},
   "outputs": [
    {
     "name": "stdout",
     "output_type": "stream",
     "text": [
      "P(X < 6.5) = 0.8413447460685429\n"
     ]
    }
   ],
   "source": [
    "# ESCREVA SUA RESPOSTA AQUI\n",
    "\n",
    "# P(X < 6,5) = P (X < mu + 1*sigma) = ?\n",
    "item_a = stats.norm.cdf(6.5, loc=5, scale=1.5)\n",
    "\n",
    "print(f'P(X < 6.5) = {item_a}')"
   ]
  },
  {
   "cell_type": "markdown",
   "metadata": {},
   "source": [
    "### Item b\n",
    "*Objetivo: calcular o complemento de probabilidades cumulativas com a normal* \n",
    "\n",
    "Qual a probabilidade de encontrar um aluno nota acima de 8?\n",
    "\n",
    "*Resposta esperada: 0.02275013194817921*"
   ]
  },
  {
   "cell_type": "code",
   "execution_count": 36,
   "metadata": {
    "scrolled": true
   },
   "outputs": [
    {
     "name": "stdout",
     "output_type": "stream",
     "text": [
      "P(X > 8) = 0.02275013194817921\n"
     ]
    }
   ],
   "source": [
    "# ESCREVA SUA RESPOSTA AQUI\n",
    "\n",
    "# P(X > 8) = P (X > mu + 2*sigma) = ?\n",
    "item_b = 1 - stats.norm.cdf(8, loc=5, scale=1.5)\n",
    "\n",
    "print(f'P(X > 8) = {item_b}')"
   ]
  },
  {
   "cell_type": "markdown",
   "metadata": {},
   "source": [
    "### Item c\n",
    "*Objetivo: calcular o complemento de probabilidades cumulativas com a normal* \n",
    "\n",
    "E da nota ser superior a 9?\n",
    "\n",
    "*Resposta esperada: 0.003830380567589775*"
   ]
  },
  {
   "cell_type": "code",
   "execution_count": 37,
   "metadata": {},
   "outputs": [
    {
     "name": "stdout",
     "output_type": "stream",
     "text": [
      "0.0038303805675897365\n"
     ]
    }
   ],
   "source": [
    "# ESCREVA SUA RESPOSTA AQUI\n",
    "x = stats.norm.sf(9, loc=5, scale=1.5)\n",
    "print(x)"
   ]
  },
  {
   "cell_type": "code",
   "execution_count": null,
   "metadata": {},
   "outputs": [],
   "source": []
  },
  {
   "cell_type": "code",
   "execution_count": null,
   "metadata": {},
   "outputs": [],
   "source": []
  },
  {
   "cell_type": "markdown",
   "metadata": {},
   "source": [
    "### Item d\n",
    "*Objetivo: calcular percentis com a distribuição normal*\n",
    "\n",
    "Qual a maior nota dos 20% piores alunos? E a pior nota dos 20% melhores alunos?\n",
    "\n",
    "*Resposta esperada: 3.737568149640629 e 6.262431850359372*"
   ]
  },
  {
   "cell_type": "code",
   "execution_count": 38,
   "metadata": {},
   "outputs": [
    {
     "name": "stdout",
     "output_type": "stream",
     "text": [
      "Maior nota dos 20% melhores alunos = 6.262431850359372\n",
      "Pior nota dos 20% piores alunos = 3.737568149640629\n"
     ]
    }
   ],
   "source": [
    "# ESCREVA SUA RESPOSTA AQUI\n",
    "\n",
    "# Maior nota dos 20% melhores alunos\n",
    "item_d = stats.norm.ppf(0.8, loc=5, scale=1.5)\n",
    "\n",
    "print(f'Maior nota dos 20% melhores alunos = {item_d}')\n",
    "\n",
    "# Pior nota dos 20% piores alunos\n",
    "item_e = stats.norm.ppf(0.2, loc=5, scale=1.5)\n",
    "\n",
    "print(f'Pior nota dos 20% piores alunos = {item_e}')"
   ]
  },
  {
   "cell_type": "code",
   "execution_count": null,
   "metadata": {},
   "outputs": [],
   "source": []
  },
  {
   "cell_type": "code",
   "execution_count": null,
   "metadata": {},
   "outputs": [],
   "source": []
  },
  {
   "cell_type": "markdown",
   "metadata": {},
   "source": [
    "### Item e\n",
    "*Calcular probabilidades condicionais com a normal*\n",
    "\n",
    "Considerando alunos que tiraram acima de 5, qual a probabilidade de ser abaixo de 7?\n",
    "\n",
    "*Resposta esperada: 0.8175775605482642*"
   ]
  },
  {
   "cell_type": "code",
   "execution_count": 39,
   "metadata": {},
   "outputs": [
    {
     "name": "stdout",
     "output_type": "stream",
     "text": [
      "0.4087887802741321\n",
      "0.8175775605482642\n"
     ]
    }
   ],
   "source": [
    "# ESCREVA SUA RESPOSTA AQUI\n",
    "\n",
    "#P(X<7 | X>5) = ?\n",
    "\n",
    "print(stats.norm.cdf(7, loc=5, scale=1.5) - stats.norm.cdf(5, loc=5, scale=1.5))\n",
    "maior_7_menor_5 = stats.norm.cdf(7, loc=5, scale=1.5) - stats.norm.cdf(5, loc=5, scale=1.5)\n",
    "print(maior_7_menor_5/stats.norm.cdf(5, loc=5, scale=1.5))\n",
    "\n",
    "\n",
    "\n",
    "\n",
    "\n",
    "\n"
   ]
  },
  {
   "cell_type": "code",
   "execution_count": null,
   "metadata": {},
   "outputs": [],
   "source": []
  },
  {
   "cell_type": "code",
   "execution_count": null,
   "metadata": {},
   "outputs": [],
   "source": []
  },
  {
   "cell_type": "markdown",
   "metadata": {},
   "source": [
    "### Item f\n",
    "*Objetivo: fazer uma figura com a distribuição normal*\n",
    "\n",
    "Construa o gráfico da distribuição normal que modela as notas.\n"
   ]
  },
  {
   "cell_type": "code",
   "execution_count": 40,
   "metadata": {},
   "outputs": [],
   "source": [
    "%matplotlib inline\n",
    "import matplotlib.pyplot as plt\n",
    "import numpy as np"
   ]
  },
  {
   "cell_type": "code",
   "execution_count": 43,
   "metadata": {},
   "outputs": [
    {
     "data": {
      "text/plain": [
       "[<matplotlib.lines.Line2D at 0x1f4a770e6e0>]"
      ]
     },
     "execution_count": 43,
     "metadata": {},
     "output_type": "execute_result"
    },
    {
     "data": {
      "image/png": "[encoded data removed]",
      "text/plain": [
       "<Figure size 640x480 with 1 Axes>"
      ]
     },
     "metadata": {},
     "output_type": "display_data"
    }
   ],
   "source": [
    "# ESCREVA SUA RESPOSTA AQUI\n",
    "\n",
    "#Construa o gráfico da distribuição normal que modela as notas.\n",
    "\n",
    "x = np.linspace(0, 10, 100)\n",
    "y = stats.norm.pdf(x, loc=5, scale=1.5)\n",
    "plt.ylabel('Probabilidade')\n",
    "plt.xlabel('Notas')\n",
    "\n",
    "plt.plot(x, y)\n"
   ]
  },
  {
   "cell_type": "code",
   "execution_count": null,
   "metadata": {},
   "outputs": [],
   "source": []
  },
  {
   "cell_type": "code",
   "execution_count": null,
   "metadata": {},
   "outputs": [],
   "source": []
  },
  {
   "cell_type": "code",
   "execution_count": null,
   "metadata": {},
   "outputs": [],
   "source": []
  },
  {
   "cell_type": "markdown",
   "metadata": {},
   "source": [
    "___\n",
    "# Exercício 2: Relação entre P(X ≤ x) e P(Z ≤ z)\n",
    "**Objetivo: relacionar distribuições normais em geral a distribuições normais padrão**\n",
    "\n",
    "Uma distribuição normal padrão é uma variável aleatória $Z \\sim N(0, 1)$. Ela é importante porque, em $Z$, passos de tamanho $1$ correspondem a um passo de 1 desvio padrão, o que nos dá significado estatístico para variações em nossas medidas.\n",
    "\n",
    "a) Se temos uma variável $X \\sim N(10, 1)$, que operação devemos fazer para que sua média passe a ser zero?\n",
    "\n",
    "b) Se temos uma variável $X \\sim N(0, 9)$, que operação devemos fazer para que sua variância passe a ser 1?\n",
    "\n",
    "c) Se temos uma variável $X \\sim N(10, 9)$, que operações devemos fazer para que passe a ter distribuição $N(0,1)$?\n",
    "\n",
    "d) O tempo que usuários levam para preencher um pequeno formulário online foi estimado como uma distribuição $N(60,25)$, em segundos. Usando primeiro a normal \"geral\" e depois a normal \"padrão\", qual fração dos usuários completa o formulário em menos de 50 segundos?\n"
   ]
  },
  {
   "cell_type": "markdown",
   "metadata": {},
   "source": []
  },
  {
   "cell_type": "markdown",
   "metadata": {},
   "source": [
    "# Exercício 3\n",
    "*Objetivo: aplicar alterações na média e no desvio padrão de uma variável aleatória*\n",
    "\n",
    "O tempo para completar uma fase de um jogo é modelado por uma distribuição normal: $X \\sim N(5,2)$ (em minutos).\n",
    "\n",
    "a) Se os jogadores passam a levar três minutos a mais para completar o jogo, qual é a nova distribuição do tempo de término?\n",
    "\n",
    "b) Se os jogadores passam a levar o dobro do tempo para completar o jogo, qual é a nova distribuição do tempo de término?"
   ]
  },
  {
   "cell_type": "markdown",
   "metadata": {},
   "source": [
    "# Exercício 4\n",
    "*Objetivo: relacionar médias e desvios padrões a probabilidades acumuladas*\n",
    "\n",
    "1. Escolha valores arbitrários para a média $\\mu$ e o desvio padrão $\\sigma$ de uma distribuição normal.\n",
    "2. Qual é a probabilidade de um número gerado por essa distribuição ter valor $x > \\mu + \\sigma$?\n",
    "3. Qual é a probabilidade de um número gerado por essa distribuição ter valor $x > \\mu + 2\\sigma$?\n",
    "4. Qual é a probabilidade de um número gerado por essa distribuição ter valor $x > \\mu + 3\\sigma$?\n",
    "5. Os resultados dos seus ítens 2, 3 e 4 se mantém caso você altere $\\mu$ e $\\sigma$?"
   ]
  },
  {
   "cell_type": "code",
   "execution_count": null,
   "metadata": {},
   "outputs": [],
   "source": []
  },
  {
   "cell_type": "code",
   "execution_count": null,
   "metadata": {},
   "outputs": [],
   "source": []
  }
 ],
 "metadata": {
  "kernelspec": {
   "display_name": "Python 3.10.2 64-bit",
   "language": "python",
   "name": "python3"
  },
  "language_info": {
   "codemirror_mode": {
    "name": "ipython",
    "version": 3
   },
   "file_extension": ".py",
   "mimetype": "text/x-python",
   "name": "python",
   "nbconvert_exporter": "python",
   "pygments_lexer": "ipython3",
   "version": "3.10.2"
  },
  "vscode": {
   "interpreter": {
    "hash": "9be826744cc5714b462ad0c8de88bfa6f016a48973c6317b9546595d1685cabb"
   }
  }
 },
 "nbformat": 4,
 "nbformat_minor": 2
}
