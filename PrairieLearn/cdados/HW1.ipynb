{
 "cells": [
  {
   "cell_type": "code",
   "execution_count": 3,
   "metadata": {},
   "outputs": [
    {
     "name": "stdout",
     "output_type": "stream",
     "text": [
      "Probabilidade de enchimento incorreto:  0.0066\n",
      "Probabilidade de enchimento incorreto em alta velocidade:  0.45454545454545453\n"
     ]
    }
   ],
   "source": [
    "P_inc_lento = 0.004\n",
    "P_inc_rapido = 0.03\n",
    "\n",
    "# 10% dos reservatorios enchidos em alta velocidade -> 90% em baixa velocidade\n",
    "\n",
    "# Calcular a probabilidade do reservatorio ser enchido incorretamente\n",
    "P_inc = P_inc_lento * 0.9 + P_inc_rapido * 0.1\n",
    "print(\"Probabilidade de enchimento incorreto: \", P_inc)\n",
    "\n",
    "#Se um reservatório cheio incorretamente for encontrado, qual é a probabilidade de que ele tenha sido cheio durante uma operação em alta velocidade?\n",
    "P_inc_rapido_cond = P_inc_rapido * 0.1 / P_inc\n",
    "print(\"Probabilidade de enchimento incorreto em alta velocidade: \", P_inc_rapido_cond)"
   ]
  }
 ],
 "metadata": {
  "kernelspec": {
   "display_name": "Python 3.10.2 64-bit",
   "language": "python",
   "name": "python3"
  },
  "language_info": {
   "codemirror_mode": {
    "name": "ipython",
    "version": 3
   },
   "file_extension": ".py",
   "mimetype": "text/x-python",
   "name": "python",
   "nbconvert_exporter": "python",
   "pygments_lexer": "ipython3",
   "version": "3.10.2"
  },
  "orig_nbformat": 4,
  "vscode": {
   "interpreter": {
    "hash": "9be826744cc5714b462ad0c8de88bfa6f016a48973c6317b9546595d1685cabb"
   }
  }
 },
 "nbformat": 4,
 "nbformat_minor": 2
}
