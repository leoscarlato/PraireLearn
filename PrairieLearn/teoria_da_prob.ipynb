{
 "cells": [
  {
   "cell_type": "code",
   "execution_count": null,
   "metadata": {},
   "outputs": [],
   "source": []
  },
  {
   "cell_type": "markdown",
   "metadata": {},
   "source": [
    "# Exercício 1"
   ]
  },
  {
   "cell_type": "code",
   "execution_count": 1,
   "metadata": {},
   "outputs": [
    {
     "name": "stdout",
     "output_type": "stream",
     "text": [
      "0.23076923076923075\n"
     ]
    }
   ],
   "source": [
    "# C -> aumento no preço do combustível\n",
    "# C_ -> não aumento no preço do combustível\n",
    "# T -> aumento no preço do transporte\n",
    "# T_ -> não aumento no preço do transporte\n",
    "\n",
    "# P(C) = 0.4\n",
    "# P(C|T) = 0.5\n",
    "# P(T|C_) = 0.1\n",
    "# P(C_|T_) = ?\n",
    "\n",
    "# P(C_|T_) = P(C_|T,T_) * P(T_) + P(C_|T_,T_) * P(T_)\n",
    "\n",
    "P_C = 0.4\n",
    "P_T_dado_C = 0.5\n",
    "P_T_dado_Cc = 0.1\n",
    "\n",
    "P_Cc = 1 - P_C\n",
    "\n",
    "P_TeCc = P_Cc*P_T_dado_Cc\n",
    "\n",
    "P_TeC = P_C*P_T_dado_C\n",
    "\n",
    "P_T = P_TeC + P_TeCc\n",
    "\n",
    "#Logo,\n",
    "#P(Cc|T) = P_TeCc / P_T\n",
    "\n",
    "P_Cc_dado_T = P_TeCc / P_T\n",
    "print(P_Cc_dado_T)"
   ]
  },
  {
   "cell_type": "markdown",
   "metadata": {},
   "source": [
    "# Exercício 2"
   ]
  },
  {
   "cell_type": "code",
   "execution_count": 3,
   "metadata": {},
   "outputs": [
    {
     "name": "stdout",
     "output_type": "stream",
     "text": [
      "0.72\n",
      "0.5000000000000001\n"
     ]
    }
   ],
   "source": [
    "# Duas marcas de carro: A e B\n",
    "# Pessoas que compram carros populares: 90% compram A\n",
    "# Pessoas que não compram carros populares: 60% compram A\n",
    "# Vendas: 40% são de carros populares\n",
    "\n",
    "# P(A) = ?\n",
    "\n",
    "# Calcular a probabilidade de comprar A\n",
    "\n",
    "P_A = 0.9*0.4 + 0.6*0.6\n",
    "print(P_A)\n",
    "\n",
    "# Calcular a probabilidade de comprar A dado que é carro popular \n",
    "\n",
    "P_A_dado_pop = 0.9*0.4 / P_A\n",
    "print(P_A_dado_pop)"
   ]
  },
  {
   "cell_type": "markdown",
   "metadata": {},
   "source": [
    "# EXERCÍCIO 3"
   ]
  },
  {
   "cell_type": "code",
   "execution_count": 9,
   "metadata": {},
   "outputs": [
    {
     "name": "stdout",
     "output_type": "stream",
     "text": [
      "0.028599999999999997\n",
      "0.9790209790209791\n"
     ]
    }
   ],
   "source": [
    "# Em uma operação de enchimento automático, a probabilidade de um enchimento incorreto será 0.0020, quando o processo for operado em baixa velocidade. Quando o processo for operado em alta velocidade, a probabilidade de um enchimento incorreto será de 0.04.\n",
    "#Suponha que 30% dos reservatórios tenham sido cheios em alta velocidade, e o restante tenha sido cheio em baixa velocidade.\n",
    "\n",
    "# Calcular a probabilidade de um enchimento incorreto\n",
    "\n",
    "P_incorreto = 0.002*0.3 + 0.04*0.7\n",
    "print(P_incorreto)\n",
    "\n",
    "# Calcular a probabilidade de um enchimento incorreto dado que o processo foi operado em alta velocidade\n",
    "\n",
    "P_incorreto_dado_alta = 0.04*0.7 / P_incorreto\n",
    "# P_incorreto_dado_baixa = 0.002*0.3 / P_incorreto\n",
    "print(P_incorreto_dado_alta)\n",
    "# print(P_incorreto_dado_baixa)\n",
    "# print(P_incorreto_dado_alta + P_incorreto_dado_baixa)\n"
   ]
  }
 ],
 "metadata": {
  "kernelspec": {
   "display_name": "Python 3.10.2 64-bit",
   "language": "python",
   "name": "python3"
  },
  "language_info": {
   "codemirror_mode": {
    "name": "ipython",
    "version": 3
   },
   "file_extension": ".py",
   "mimetype": "text/x-python",
   "name": "python",
   "nbconvert_exporter": "python",
   "pygments_lexer": "ipython3",
   "version": "3.10.2"
  },
  "orig_nbformat": 4,
  "vscode": {
   "interpreter": {
    "hash": "9be826744cc5714b462ad0c8de88bfa6f016a48973c6317b9546595d1685cabb"
   }
  }
 },
 "nbformat": 4,
 "nbformat_minor": 2
}
