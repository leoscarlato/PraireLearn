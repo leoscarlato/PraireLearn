{
 "cells": [
  {
   "cell_type": "code",
   "execution_count": 1,
   "metadata": {},
   "outputs": [],
   "source": [
    "from scipy import stats"
   ]
  },
  {
   "cell_type": "code",
   "execution_count": 2,
   "metadata": {},
   "outputs": [
    {
     "name": "stdout",
     "output_type": "stream",
     "text": [
      "0.01647587488199059\n"
     ]
    }
   ],
   "source": [
    "mortalidade = 0.549\n",
    "amostra = 13\n",
    "\n",
    "x = stats.binom.pmf(3, amostra, mortalidade)\n",
    "print(x)"
   ]
  },
  {
   "cell_type": "code",
   "execution_count": 4,
   "metadata": {},
   "outputs": [
    {
     "name": "stdout",
     "output_type": "stream",
     "text": [
      "0.9993474737344267\n"
     ]
    }
   ],
   "source": [
    "mortalidade = 0.570\n",
    "amostra = 15\n",
    "\n",
    "x = stats.binom.cdf(2, amostra, mortalidade)\n",
    "print(1-x)"
   ]
  },
  {
   "cell_type": "code",
   "execution_count": 155,
   "metadata": {},
   "outputs": [
    {
     "name": "stdout",
     "output_type": "stream",
     "text": [
      "0.5125691830712004\n"
     ]
    }
   ],
   "source": [
    "mortalidade = 0.576\n",
    "amostra = 11\n",
    "\n",
    "x = 1 - stats.binom.cdf(3, amostra, mortalidade)\n",
    "y = stats.binom.cdf(6, amostra, mortalidade)\n",
    "\n",
    "pmf_4 = stats.binom.pmf(4, amostra, mortalidade)\n",
    "pmf_5 = stats.binom.pmf(5, amostra, mortalidade)\n",
    "pmf_6 = stats.binom.pmf(6, amostra, mortalidade)\n",
    "\n",
    "interseccao = pmf_4 + pmf_5 + pmf_6\n",
    "resultado = interseccao / x\n",
    "print(resultado)\n",
    "\n",
    "\n",
    "\n"
   ]
  },
  {
   "cell_type": "markdown",
   "metadata": {},
   "source": [
    "Um pendrive permite 60 minutos de gravação de um vídeo em qualidade full HD. Sabe-se que defeitos de fabricação surgem a uma taxa de 0.88 defeitos a cada 10 horas de gravação."
   ]
  },
  {
   "cell_type": "code",
   "execution_count": 199,
   "metadata": {},
   "outputs": [
    {
     "name": "stdout",
     "output_type": "stream",
     "text": [
      "0.08056874390487534\n"
     ]
    }
   ],
   "source": [
    "\n",
    "#Calcular a probabilidade de um pendrive apresentar defeito\n",
    "L = 0.84/10\n",
    "\n",
    "x = 1-stats.poisson.cdf(0, L)\n",
    "print(x)\n"
   ]
  }
 ],
 "metadata": {
  "kernelspec": {
   "display_name": "Python 3.10.5 64-bit",
   "language": "python",
   "name": "python3"
  },
  "language_info": {
   "codemirror_mode": {
    "name": "ipython",
    "version": 3
   },
   "file_extension": ".py",
   "mimetype": "text/x-python",
   "name": "python",
   "nbconvert_exporter": "python",
   "pygments_lexer": "ipython3",
   "version": "3.10.5"
  },
  "orig_nbformat": 4,
  "vscode": {
   "interpreter": {
    "hash": "107d7b120a5b68773a87d4067e673630b35702e55ebab3138143d08b1c4d7cbc"
   }
  }
 },
 "nbformat": 4,
 "nbformat_minor": 2
}
